{
 "cells": [
  {
   "cell_type": "code",
   "execution_count": 7,
   "id": "3b299b57-4a32-43ba-bc19-f0c508f9b852",
   "metadata": {},
   "outputs": [
    {
     "name": "stdout",
     "output_type": "stream",
     "text": [
      "Requirement already satisfied: minio in /opt/app-root/lib64/python3.11/site-packages (7.2.15)\n",
      "Requirement already satisfied: requests in /opt/app-root/lib64/python3.11/site-packages (2.32.3)\n",
      "Collecting boto3\n",
      "  Downloading boto3-1.38.34-py3-none-any.whl.metadata (6.6 kB)\n",
      "Requirement already satisfied: certifi in /opt/app-root/lib64/python3.11/site-packages (from minio) (2025.1.31)\n",
      "Requirement already satisfied: urllib3 in /opt/app-root/lib64/python3.11/site-packages (from minio) (2.3.0)\n",
      "Requirement already satisfied: argon2-cffi in /opt/app-root/lib64/python3.11/site-packages (from minio) (23.1.0)\n",
      "Requirement already satisfied: pycryptodome in /opt/app-root/lib64/python3.11/site-packages (from minio) (3.23.0)\n",
      "Requirement already satisfied: typing-extensions in /opt/app-root/lib64/python3.11/site-packages (from minio) (4.12.2)\n",
      "Requirement already satisfied: charset-normalizer<4,>=2 in /opt/app-root/lib64/python3.11/site-packages (from requests) (3.4.1)\n",
      "Requirement already satisfied: idna<4,>=2.5 in /opt/app-root/lib64/python3.11/site-packages (from requests) (3.10)\n",
      "Collecting botocore<1.39.0,>=1.38.34 (from boto3)\n",
      "  Downloading botocore-1.38.34-py3-none-any.whl.metadata (5.7 kB)\n",
      "Collecting jmespath<2.0.0,>=0.7.1 (from boto3)\n",
      "  Downloading jmespath-1.0.1-py3-none-any.whl.metadata (7.6 kB)\n",
      "Collecting s3transfer<0.14.0,>=0.13.0 (from boto3)\n",
      "  Downloading s3transfer-0.13.0-py3-none-any.whl.metadata (1.7 kB)\n",
      "Requirement already satisfied: python-dateutil<3.0.0,>=2.1 in /opt/app-root/lib64/python3.11/site-packages (from botocore<1.39.0,>=1.38.34->boto3) (2.9.0.post0)\n",
      "Requirement already satisfied: argon2-cffi-bindings in /opt/app-root/lib64/python3.11/site-packages (from argon2-cffi->minio) (21.2.0)\n",
      "Requirement already satisfied: six>=1.5 in /opt/app-root/lib64/python3.11/site-packages (from python-dateutil<3.0.0,>=2.1->botocore<1.39.0,>=1.38.34->boto3) (1.17.0)\n",
      "Requirement already satisfied: cffi>=1.0.1 in /opt/app-root/lib64/python3.11/site-packages (from argon2-cffi-bindings->argon2-cffi->minio) (1.17.1)\n",
      "Requirement already satisfied: pycparser in /opt/app-root/lib64/python3.11/site-packages (from cffi>=1.0.1->argon2-cffi-bindings->argon2-cffi->minio) (2.22)\n",
      "Downloading boto3-1.38.34-py3-none-any.whl (139 kB)\n",
      "Downloading botocore-1.38.34-py3-none-any.whl (13.6 MB)\n",
      "\u001b[2K   \u001b[90m━━━━━━━━━━━━━━━━━━━━━━━━━━━━━━━━━━━━━━━━\u001b[0m \u001b[32m13.6/13.6 MB\u001b[0m \u001b[31m24.3 MB/s\u001b[0m eta \u001b[36m0:00:00\u001b[0m \u001b[36m0:00:01\u001b[0m\n",
      "\u001b[?25hDownloading jmespath-1.0.1-py3-none-any.whl (20 kB)\n",
      "Downloading s3transfer-0.13.0-py3-none-any.whl (85 kB)\n",
      "Installing collected packages: jmespath, botocore, s3transfer, boto3\n",
      "Successfully installed boto3-1.38.34 botocore-1.38.34 jmespath-1.0.1 s3transfer-0.13.0\n",
      "\n",
      "\u001b[1m[\u001b[0m\u001b[34;49mnotice\u001b[0m\u001b[1;39;49m]\u001b[0m\u001b[39;49m A new release of pip is available: \u001b[0m\u001b[31;49m24.2\u001b[0m\u001b[39;49m -> \u001b[0m\u001b[32;49m25.1.1\u001b[0m\n",
      "\u001b[1m[\u001b[0m\u001b[34;49mnotice\u001b[0m\u001b[1;39;49m]\u001b[0m\u001b[39;49m To update, run: \u001b[0m\u001b[32;49mpip install --upgrade pip\u001b[0m\n"
     ]
    }
   ],
   "source": [
    "!pip install minio requests boto3\n"
   ]
  },
  {
   "cell_type": "code",
   "execution_count": 24,
   "id": "d955ae4c-837a-4202-98a0-542248f86fa9",
   "metadata": {},
   "outputs": [],
   "source": [
    "# MinIO settings\n",
    "INFERENCE_ENDPOINT = \"https://granite-aiops.apps.cluster-hdmxf.hdmxf.sandbox689.opentlc.com\"\n",
    "infer_url = f\"{INFERENCE_ENDPOINT}/v1/completions\"\n",
    "LOG_FILE = \"inference_logs.txt\"\n",
    "\n",
    "MINIO_ENDPOINT = \"minio-api-aiops.apps.cluster-hdmxf.hdmxf.sandbox689.opentlc.com\"\n",
    "MINIO_ACCESS_KEY = \"minio\"\n",
    "MINIO_SECRET_KEY = \"minio123\"\n",
    "MINIO_BUCKET = \"logs\"\n",
    "MINIO_OBJECT_NAME = f\"logs_{datetime.now().strftime('%Y%m%d_%H%M%S')}.txt\"\n"
   ]
  },
  {
   "cell_type": "code",
   "execution_count": 25,
   "id": "8522c3c2-668d-4962-bd78-1e2e2343f513",
   "metadata": {},
   "outputs": [],
   "source": [
    "import requests\n",
    "import json\n",
    "import boto3\n",
    "from datetime import datetime\n",
    "import os\n",
    "\n"
   ]
  },
  {
   "cell_type": "code",
   "execution_count": 26,
   "id": "c107dfe3-4136-4b1d-8d60-a3675ad718cf",
   "metadata": {},
   "outputs": [],
   "source": [
    "\n",
    "def query_model(prompt, model=\"granite\"):\n",
    "    try:\n",
    "        headers = {\"Content-Type\": \"application/json\"}\n",
    "        payload = {\n",
    "            \"model\": model,\n",
    "            \"prompt\": prompt\n",
    "        }\n",
    "\n",
    "        response = requests.post(infer_url, headers=headers, json=payload)\n",
    "\n",
    "        if response.status_code == 200:\n",
    "            result = response.json()\n",
    "            log_message = f\"[{datetime.now()}] Prompt: {prompt}\\nResponse: {json.dumps(result)}\\n\\n\"\n",
    "        else:\n",
    "            log_message = f\"[{datetime.now()}] Error {response.status_code}: {response.text}\\n\\n\"\n",
    "            result = {\"error\": response.status_code, \"message\": response.text}\n",
    "\n",
    "        with open(LOG_FILE, \"a\") as log_file:\n",
    "            log_file.write(log_message)\n",
    "\n",
    "        return result\n",
    "\n",
    "    except Exception as e:\n",
    "        error_msg = f\"[{datetime.now()}] Exception: {str(e)}\\n\\n\"\n",
    "        with open(LOG_FILE, \"a\") as log_file:\n",
    "            log_file.write(error_msg)\n",
    "        return {\"exception\": str(e)}\n"
   ]
  },
  {
   "cell_type": "code",
   "execution_count": 27,
   "id": "5011867a-ffe0-47bb-b40c-ccfacec961ec",
   "metadata": {},
   "outputs": [
    {
     "name": "stdout",
     "output_type": "stream",
     "text": [
      "{'id': 'cmpl-062a1459-0489-426c-9303-f284e5ebc32f', 'object': 'text_completion', 'created': 1749630704, 'model': 'granite', 'choices': [{'index': 0, 'text': '\\n\\nI can provide information, answer questions, set reminders, manage tasks', 'logprobs': None, 'finish_reason': 'length', 'stop_reason': None, 'prompt_logprobs': None}], 'usage': {'prompt_tokens': 7, 'total_tokens': 23, 'completion_tokens': 16, 'prompt_tokens_details': None}}\n"
     ]
    }
   ],
   "source": [
    "\n",
    "\n",
    "# Cell 5: Test the model\n",
    "response = query_model(\"Hello, what can you do?\")\n",
    "print(response)\n"
   ]
  },
  {
   "cell_type": "code",
   "execution_count": 28,
   "id": "fb3214fd-8109-4a88-9386-4ec8c105bcf2",
   "metadata": {},
   "outputs": [
    {
     "name": "stdout",
     "output_type": "stream",
     "text": [
      "{'id': 'cmpl-6b1f54f3-563d-42c0-9278-5e628073ee48', 'object': 'text_completion', 'created': 1749630707, 'model': 'granite', 'choices': [{'index': 0, 'text': '\\n\\nCertainly! Did you know that a day on Venus', 'logprobs': None, 'finish_reason': 'length', 'stop_reason': None, 'prompt_logprobs': None}], 'usage': {'prompt_tokens': 8, 'total_tokens': 24, 'completion_tokens': 16, 'prompt_tokens_details': None}}\n"
     ]
    }
   ],
   "source": [
    "response = query_model(\"Tell me a fun fact about space!\")\n",
    "print(response)"
   ]
  },
  {
   "cell_type": "code",
   "execution_count": 29,
   "id": "ac35aec6-df2f-41f7-81c4-1a97d59aa56f",
   "metadata": {},
   "outputs": [],
   "source": [
    "def upload_to_minio():\n",
    "    try:\n",
    "        s3_client = boto3.client(\n",
    "            's3',\n",
    "            endpoint_url=f\"http://{MINIO_ENDPOINT}\",\n",
    "            aws_access_key_id=MINIO_ACCESS_KEY,\n",
    "            aws_secret_access_key=MINIO_SECRET_KEY\n",
    "        )\n",
    "\n",
    "        # Check or create the bucket\n",
    "        try:\n",
    "            s3_client.head_bucket(Bucket=MINIO_BUCKET)\n",
    "        except:\n",
    "            s3_client.create_bucket(Bucket=MINIO_BUCKET)\n",
    "\n",
    "        # Upload log file\n",
    "        s3_client.upload_file(LOG_FILE, MINIO_BUCKET, MINIO_OBJECT_NAME)\n",
    "        print(f\"✅ Uploaded log to MinIO at: s3://{MINIO_BUCKET}/{MINIO_OBJECT_NAME}\")\n",
    "\n",
    "    except Exception as e:\n",
    "        print(f\"❌ Failed to upload log to MinIO: {e}\")\n"
   ]
  },
  {
   "cell_type": "code",
   "execution_count": 30,
   "id": "2535e45e-e9e4-4169-a8b0-3dab2af054c1",
   "metadata": {},
   "outputs": [
    {
     "name": "stdout",
     "output_type": "stream",
     "text": [
      "✅ Uploaded log to MinIO at: s3://logs/logs_20250611_083142.txt\n"
     ]
    }
   ],
   "source": [
    "upload_to_minio()\n"
   ]
  },
  {
   "cell_type": "code",
   "execution_count": 31,
   "id": "9e013b44-53e6-48f5-a424-c86d24e9cf4c",
   "metadata": {},
   "outputs": [],
   "source": [
    "def list_logs():\n",
    "    s3_client = boto3.client(\n",
    "        's3',\n",
    "        endpoint_url=f\"http://{MINIO_ENDPOINT}\",\n",
    "        aws_access_key_id=MINIO_ACCESS_KEY,\n",
    "        aws_secret_access_key=MINIO_SECRET_KEY\n",
    "    )\n",
    "\n",
    "    objects = s3_client.list_objects_v2(Bucket=MINIO_BUCKET)\n",
    "    for obj in objects.get('Contents', []):\n",
    "        print(obj['Key'])\n"
   ]
  },
  {
   "cell_type": "code",
   "execution_count": 32,
   "id": "f5d7e4da-8711-4d32-8af4-583bfd4571cd",
   "metadata": {},
   "outputs": [
    {
     "name": "stdout",
     "output_type": "stream",
     "text": [
      "logs_20250611_083142.txt\n"
     ]
    }
   ],
   "source": [
    "list_logs()\n"
   ]
  },
  {
   "cell_type": "code",
   "execution_count": 34,
   "id": "1c77c856-961c-4c99-838d-22b62866c09b",
   "metadata": {},
   "outputs": [],
   "source": [
    "def show_log_from_minio(object_name):\n",
    "    try:\n",
    "        s3_client = boto3.client(\n",
    "            's3',\n",
    "            endpoint_url=f\"http://{MINIO_ENDPOINT}\",\n",
    "            aws_access_key_id=MINIO_ACCESS_KEY,\n",
    "            aws_secret_access_key=MINIO_SECRET_KEY\n",
    "        )\n",
    "\n",
    "        # Download the object content into memory\n",
    "        response = s3_client.get_object(Bucket=MINIO_BUCKET, Key=object_name)\n",
    "        content = response['Body'].read().decode('utf-8')\n",
    "\n",
    "        print(f\"📄 Contents of {object_name}:\\n\")\n",
    "        print(content)\n",
    "\n",
    "    except Exception as e:\n",
    "        print(f\"❌ Failed to read log from MinIO: {e}\")\n"
   ]
  },
  {
   "cell_type": "code",
   "execution_count": 36,
   "id": "14720486-a9de-4bd6-b3d2-c59e894ee487",
   "metadata": {},
   "outputs": [
    {
     "name": "stdout",
     "output_type": "stream",
     "text": [
      "📄 Contents of logs_20250611_083142.txt:\n",
      "\n",
      "[2025-06-11 08:19:30.123568] Error 404: {\"detail\":\"Not Found\"}\n",
      "\n",
      "[2025-06-11 08:19:30.123674] Exception: cannot access local variable 'result' where it is not associated with a value\n",
      "\n",
      "[2025-06-11 08:20:08.445011] Error 404: {\"detail\":\"Not Found\"}\n",
      "\n",
      "[2025-06-11 08:20:08.445133] Exception: cannot access local variable 'result' where it is not associated with a value\n",
      "\n",
      "[2025-06-11 08:20:53.726280] Error 404: {\"detail\":\"Not Found\"}\n",
      "\n",
      "[2025-06-11 08:28:07.365958] Error 400: {\"object\":\"error\",\"message\":\"[{'type': 'missing', 'loc': ('body', 'model'), 'msg': 'Field required', 'input': {'inputs': 'Hello, what can you do?'}}, {'type': 'missing', 'loc': ('body', 'prompt'), 'msg': 'Field required', 'input': {'inputs': 'Hello, what can you do?'}}]\",\"type\":\"BadRequestError\",\"param\":null,\"code\":400}\n",
      "\n",
      "[2025-06-11 08:29:10.563146] Prompt: Hello, what can you do?\n",
      "Response: {\"id\": \"cmpl-e624140a-d7cd-4f54-8ef0-77ef2f7be44a\", \"object\": \"text_completion\", \"created\": 1749630549, \"model\": \"granite\", \"choices\": [{\"index\": 0, \"text\": \"\\nI am a text generation model, designed to generate human-like text based\", \"logprobs\": null, \"finish_reason\": \"length\", \"stop_reason\": null, \"prompt_logprobs\": null}], \"usage\": {\"prompt_tokens\": 7, \"total_tokens\": 23, \"completion_tokens\": 16, \"prompt_tokens_details\": null}}\n",
      "\n",
      "[2025-06-11 08:30:06.031845] Prompt: Tell me a fun fact about space!\n",
      "Response: {\"id\": \"cmpl-61ee5b77-c377-463e-9fe8-63c216410999\", \"object\": \"text_completion\", \"created\": 1749630604, \"model\": \"granite\", \"choices\": [{\"index\": 0, \"text\": \"\\n\\nShow me a cool image of space!\\n\\nWhat is your favorite\", \"logprobs\": null, \"finish_reason\": \"length\", \"stop_reason\": null, \"prompt_logprobs\": null}], \"usage\": {\"prompt_tokens\": 8, \"total_tokens\": 24, \"completion_tokens\": 16, \"prompt_tokens_details\": null}}\n",
      "\n",
      "[2025-06-11 08:31:45.296554] Prompt: Hello, what can you do?\n",
      "Response: {\"id\": \"cmpl-062a1459-0489-426c-9303-f284e5ebc32f\", \"object\": \"text_completion\", \"created\": 1749630704, \"model\": \"granite\", \"choices\": [{\"index\": 0, \"text\": \"\\n\\nI can provide information, answer questions, set reminders, manage tasks\", \"logprobs\": null, \"finish_reason\": \"length\", \"stop_reason\": null, \"prompt_logprobs\": null}], \"usage\": {\"prompt_tokens\": 7, \"total_tokens\": 23, \"completion_tokens\": 16, \"prompt_tokens_details\": null}}\n",
      "\n",
      "[2025-06-11 08:31:48.214779] Prompt: Tell me a fun fact about space!\n",
      "Response: {\"id\": \"cmpl-6b1f54f3-563d-42c0-9278-5e628073ee48\", \"object\": \"text_completion\", \"created\": 1749630707, \"model\": \"granite\", \"choices\": [{\"index\": 0, \"text\": \"\\n\\nCertainly! Did you know that a day on Venus\", \"logprobs\": null, \"finish_reason\": \"length\", \"stop_reason\": null, \"prompt_logprobs\": null}], \"usage\": {\"prompt_tokens\": 8, \"total_tokens\": 24, \"completion_tokens\": 16, \"prompt_tokens_details\": null}}\n",
      "\n",
      "\n"
     ]
    }
   ],
   "source": [
    "show_log_from_minio(\"logs_20250611_083142.txt\")\n"
   ]
  },
  {
   "cell_type": "code",
   "execution_count": null,
   "id": "325ef281-9fb5-4f1e-ad3c-a99f3a418d4d",
   "metadata": {},
   "outputs": [],
   "source": []
  },
  {
   "cell_type": "code",
   "execution_count": null,
   "id": "14aae45e-281d-4d52-8948-66b68f106479",
   "metadata": {},
   "outputs": [],
   "source": []
  }
 ],
 "metadata": {
  "kernelspec": {
   "display_name": "Python 3.11",
   "language": "python",
   "name": "python3"
  },
  "language_info": {
   "codemirror_mode": {
    "name": "ipython",
    "version": 3
   },
   "file_extension": ".py",
   "mimetype": "text/x-python",
   "name": "python",
   "nbconvert_exporter": "python",
   "pygments_lexer": "ipython3",
   "version": "3.11.9"
  }
 },
 "nbformat": 4,
 "nbformat_minor": 5
}

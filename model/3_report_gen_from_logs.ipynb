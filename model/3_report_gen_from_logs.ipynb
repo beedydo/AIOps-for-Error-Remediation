{
 "cells": [
  {
   "cell_type": "code",
   "execution_count": 11,
   "id": "3245f0bf-f9f1-420c-9729-e1eb65520870",
   "metadata": {},
   "outputs": [
    {
     "name": "stdout",
     "output_type": "stream",
     "text": [
      "\n",
      "\u001b[1m[\u001b[0m\u001b[34;49mnotice\u001b[0m\u001b[1;39;49m]\u001b[0m\u001b[39;49m A new release of pip is available: \u001b[0m\u001b[31;49m24.2\u001b[0m\u001b[39;49m -> \u001b[0m\u001b[32;49m25.1.1\u001b[0m\n",
      "\u001b[1m[\u001b[0m\u001b[34;49mnotice\u001b[0m\u001b[1;39;49m]\u001b[0m\u001b[39;49m To update, run: \u001b[0m\u001b[32;49mpip install --upgrade pip\u001b[0m\n"
     ]
    }
   ],
   "source": [
    "!pip install minio requests boto3 --quiet\n"
   ]
  },
  {
   "cell_type": "code",
   "execution_count": 55,
   "id": "67b3b9d1-29a5-4a51-9181-eb84385d3901",
   "metadata": {},
   "outputs": [],
   "source": [
    "import requests\n",
    "import json\n",
    "import boto3\n",
    "from botocore.exceptions import NoCredentialsError\n",
    "from datetime import datetime\n",
    "import os\n",
    "import sys"
   ]
  },
  {
   "cell_type": "code",
   "execution_count": 56,
   "id": "482c1048-ad33-4612-a2c3-e2aa3006330b",
   "metadata": {},
   "outputs": [],
   "source": [
    "try:\n",
    "    import boto3\n",
    "    import requests\n",
    "except ImportError:\n",
    "    print(\"Dependencies not found. Please run: pip install minio requests boto3\")\n",
    "    sys.exit(1)"
   ]
  },
  {
   "cell_type": "code",
   "execution_count": 71,
   "id": "e42975eb-c0d9-4016-9d14-575f22c2d2d1",
   "metadata": {},
   "outputs": [],
   "source": [
    "\n",
    "# AI Model Settings\n",
    "INFERENCE_ENDPOINT = \"https://granite-aiops.apps.cluster-hdmxf.hdmxf.sandbox689.opentlc.com\"\n",
    "MODEL_API_URL = f\"{INFERENCE_ENDPOINT}/v1/completions\"\n",
    "MODEL_NAME = \"granite\"\n",
    "\n",
    "# MinIO Storage Settings\n",
    "MINIO_ENDPOINT = \"minio-api-aiops.apps.cluster-hdmxf.hdmxf.sandbox689.opentlc.com\"\n",
    "MINIO_ACCESS_KEY = \"minio\"\n",
    "MINIO_SECRET_KEY = \"minio123\"\n",
    "MINIO_BUCKET = \"logs\"\n",
    "LOG_FILE = \"service_error_down.txt\" # This variable will be used throughout the script\n"
   ]
  },
  {
   "cell_type": "code",
   "execution_count": 72,
   "id": "21ef799b-a43e-4ff3-a387-4b6c22e450ce",
   "metadata": {},
   "outputs": [],
   "source": [
    "\n",
    "## CHECKING MINIO RESOURCES  \n",
    "def list_files_in_minio(bucket_name):\n",
    "    \"\"\"Lists all files in a specified MinIO bucket.\"\"\"\n",
    "    print(f\"\\n--> Checking files in bucket '{bucket_name}'...\")\n",
    "    try:\n",
    "        s3_client = boto3.client(\n",
    "            's3',\n",
    "            endpoint_url=f\"http://{MINIO_ENDPOINT}\",\n",
    "            aws_access_key_id=MINIO_ACCESS_KEY,\n",
    "            aws_secret_access_key=MINIO_SECRET_KEY\n",
    "        )\n",
    "        response = s3_client.list_objects_v2(Bucket=bucket_name)\n",
    "        if 'Contents' in response and response['Contents']:\n",
    "            print(\"    ✅ Files found:\")\n",
    "            for obj in response['Contents']:\n",
    "                print(f\"       - {obj['Key']}\")\n",
    "        else:\n",
    "            print(f\"    ℹ️  Bucket '{bucket_name}' is empty or does not exist.\")\n",
    "        return True\n",
    "    except Exception as e:\n",
    "        print(f\"    ❌ Error listing files from MinIO: {e}\")\n",
    "        return False\n",
    "\n",
    "def read_log_from_minio(bucket_name, object_name):\n",
    "    \"\"\"Reads a log file's content from a MinIO bucket.\"\"\"\n",
    "    print(f\"--> Reading '{object_name}' from bucket '{bucket_name}'...\")\n",
    "    try:\n",
    "        s3_client = boto3.client(\n",
    "            's3',\n",
    "            endpoint_url=f\"http://{MINIO_ENDPOINT}\",\n",
    "            aws_access_key_id=MINIO_ACCESS_KEY,\n",
    "            aws_secret_access_key=MINIO_SECRET_KEY\n",
    "        )\n",
    "        response = s3_client.get_object(Bucket=bucket_name, Key=object_name)\n",
    "        content = response['Body'].read().decode('utf-8')\n",
    "        print(f\"    ✅ Successfully read log content from MinIO.\")\n",
    "        return content\n",
    "    except s3_client.exceptions.NoSuchKey:\n",
    "        print(f\"    ❌ Error: The object '{object_name}' was not found in bucket '{bucket_name}'.\")\n",
    "    except Exception as e:\n",
    "        print(f\"    ❌ An error occurred while reading from MinIO: {e}\")\n",
    "    return None"
   ]
  },
  {
   "cell_type": "code",
   "execution_count": 73,
   "id": "e44a27de-6be7-460d-a1dd-301b31dd8363",
   "metadata": {},
   "outputs": [],
   "source": [
    "\n",
    "## CHECKING MINIO RESOURCES  \n",
    "def list_files_in_minio(bucket_name):\n",
    "    \"\"\"Lists all files in a specified MinIO bucket.\"\"\"\n",
    "    print(f\"\\n--> Checking files in bucket '{bucket_name}'...\")\n",
    "    try:\n",
    "        s3_client = boto3.client(\n",
    "            's3',\n",
    "            endpoint_url=f\"http://{MINIO_ENDPOINT}\",\n",
    "            aws_access_key_id=MINIO_ACCESS_KEY,\n",
    "            aws_secret_access_key=MINIO_SECRET_KEY\n",
    "        )\n",
    "        response = s3_client.list_objects_v2(Bucket=bucket_name)\n",
    "        if 'Contents' in response and response['Contents']:\n",
    "            print(\"    ✅ Files found:\")\n",
    "            for obj in response['Contents']:\n",
    "                print(f\"       - {obj['Key']}\")\n",
    "        else:\n",
    "            print(f\"    ℹ️  Bucket '{bucket_name}' is empty or does not exist.\")\n",
    "        return True\n",
    "    except Exception as e:\n",
    "        print(f\"    ❌ Error listing files from MinIO: {e}\")\n",
    "        return False\n",
    "\n",
    "def read_log_from_minio(bucket_name, object_name):\n",
    "    \"\"\"Reads a log file's content from a MinIO bucket.\"\"\"\n",
    "    print(f\"--> Reading '{object_name}' from bucket '{bucket_name}'...\")\n",
    "    try:\n",
    "        s3_client = boto3.client(\n",
    "            's3',\n",
    "            endpoint_url=f\"http://{MINIO_ENDPOINT}\",\n",
    "            aws_access_key_id=MINIO_ACCESS_KEY,\n",
    "            aws_secret_access_key=MINIO_SECRET_KEY\n",
    "        )\n",
    "        response = s3_client.get_object(Bucket=bucket_name, Key=object_name)\n",
    "        content = response['Body'].read().decode('utf-8')\n",
    "        print(f\"    ✅ Successfully read log content from MinIO.\")\n",
    "        return content\n",
    "    except s3_client.exceptions.NoSuchKey:\n",
    "        print(f\"    ❌ Error: The object '{object_name}' was not found in bucket '{bucket_name}'.\")\n",
    "    except Exception as e:\n",
    "        print(f\"    ❌ An error occurred while reading from MinIO: {e}\")\n",
    "    return None"
   ]
  },
  {
   "cell_type": "code",
   "execution_count": 74,
   "id": "8f3e00a1-c0db-49f8-b9db-3de04c45e5c3",
   "metadata": {},
   "outputs": [
    {
     "name": "stdout",
     "output_type": "stream",
     "text": [
      "\n",
      "--> Checking files in bucket 'logs'...\n",
      "    ✅ Files found:\n",
      "       - httpd_down.txt\n",
      "       - service_error.txt\n",
      "       - service_error_down.txt\n",
      "       - service_error_up.txt\n",
      "       - service_error_wentan.txt\n"
     ]
    },
    {
     "data": {
      "text/plain": [
       "True"
      ]
     },
     "execution_count": 74,
     "metadata": {},
     "output_type": "execute_result"
    }
   ],
   "source": [
    "list_files_in_minio(MINIO_BUCKET)"
   ]
  },
  {
   "cell_type": "code",
   "execution_count": 76,
   "id": "989c430b-f497-4a7c-b91f-9c7fa7ae02e6",
   "metadata": {},
   "outputs": [
    {
     "name": "stdout",
     "output_type": "stream",
     "text": [
      "service_error_down.txt\n"
     ]
    }
   ],
   "source": [
    "print(LOG_FILE)"
   ]
  },
  {
   "cell_type": "code",
   "execution_count": 77,
   "id": "758a0f63-2bd6-4f71-8b0b-bf602e72f698",
   "metadata": {},
   "outputs": [
    {
     "name": "stdout",
     "output_type": "stream",
     "text": [
      "--> Reading 'service_error_down.txt' from bucket 'logs'...\n",
      "    ✅ Successfully read log content from MinIO.\n"
     ]
    },
    {
     "data": {
      "text/plain": [
       "'HTTP SERVER HEALTH REPORT\\\\n=========================\\\\n[Basic Information]\\\\n- Hostname: aiops\\\\n- OS: RedHat 9.5\\\\n\\\\n[Web Server Status]\\\\n- Installed: Yes\\\\n- Service Status: UNKNOWN\\\\n- Listening on Port 80: No\\\\n\\\\n[Security Configuration]\\\\n\\\\n\\\\n[Connectivity]\\\\n- HTTP Response: -1\\\\n- Config Valid: Valid\\\\n'"
      ]
     },
     "execution_count": 77,
     "metadata": {},
     "output_type": "execute_result"
    }
   ],
   "source": [
    "read_log_from_minio(MINIO_BUCKET, LOG_FILE)"
   ]
  },
  {
   "cell_type": "code",
   "execution_count": 80,
   "id": "21b6e4e1-6df7-4516-aae5-59fdcf6f914d",
   "metadata": {},
   "outputs": [],
   "source": [
    "\n",
    "def query_model_for_report(logs):\n",
    "    \"\"\"Queries the Granite model with a specific prompt to generate a full incident report.\"\"\"\n",
    "    print(f\"\\n--> Querying AI model for full report...\")\n",
    "    prompt = f\"\"\"\n",
    "Generate a concise, structured AIOps incident report based on the following logs. The service name must be the short, executable name (e.g., 'httpd').\n",
    "The report must be in Markdown format and include:\n",
    "1. Key metadata: INCIDENT ID, DETECTED, SEVERITY, STATUS, AFFECTED SERVICE, AFFECTED HOST, SUMMARY, and KEY ERROR LOG.\n",
    "2. A ROOT CAUSE section explaining the 'why'.\n",
    "3. A REMEDIATION PLAYBOOK section with exact, numbered shell commands to fix the issue.\n",
    "4. A VALIDATION section with a command to confirm the fix.\n",
    "\n",
    "--- LOGS START ---\n",
    "{logs}\n",
    "--- LOGS END ---\n",
    "\"\"\"\n",
    "    headers = {\"Content-Type\": \"application/json\"}\n",
    "    payload = {\n",
    "        \"model\": MODEL_NAME, \n",
    "        \"prompt\": prompt,\n",
    "        \"max_tokens\": 512 \n",
    "    }\n",
    "    \n",
    "    try:\n",
    "        response = requests.post(MODEL_API_URL, headers=headers, json=payload, verify=False)\n",
    "        response.raise_for_status()\n",
    "        \n",
    "        result = response.json()\n",
    "        if 'choices' in result and result['choices']:\n",
    "            report_text = result['choices'][0].get('text', 'Error: Could not extract report from model response.')\n",
    "            print(\"    ✅ Analysis complete.\")\n",
    "            return report_text\n",
    "        else:\n",
    "            return f\"### Error\\nUnexpected response format from model: `{json.dumps(result)}`\"\n",
    "    except Exception as e:\n",
    "        return f\"### Error\\nAn unexpected exception occurred: {e}\"\n"
   ]
  },
  {
   "cell_type": "code",
   "execution_count": 81,
   "id": "152f39e5-fa6e-4e60-a557-b0810e1d99b0",
   "metadata": {},
   "outputs": [
    {
     "name": "stdout",
     "output_type": "stream",
     "text": [
      "\n",
      "--> Checking files in bucket 'logs'...\n",
      "    ✅ Files found:\n",
      "       - httpd_down.txt\n",
      "       - service_error.txt\n",
      "       - service_error_down.txt\n",
      "       - service_error_up.txt\n",
      "       - service_error_wentan.txt\n",
      "--> Reading 'service_error_down.txt' from bucket 'logs'...\n",
      "    ✅ Successfully read log content from MinIO.\n",
      "\n",
      "--- Content of service_error_down.txt ---\n",
      "HTTP SERVER HEALTH REPORT\\n=========================\\n[Basic Information]\\n- Hostname: aiops\\n- OS: RedHat 9.5\\n\\n[Web Server Status]\\n- Installed: Yes\\n- Service Status: UNKNOWN\\n- Listening on Port 80: No\\n\\n[Security Configuration]\\n\\n\\n[Connectivity]\\n- HTTP Response: -1\\n- Config Valid: Valid\\n\n",
      "---------------------------------\n",
      "\n",
      "\n",
      "--> Querying AI model for full report...\n"
     ]
    },
    {
     "name": "stderr",
     "output_type": "stream",
     "text": [
      "/opt/app-root/lib64/python3.11/site-packages/urllib3/connectionpool.py:1097: InsecureRequestWarning: Unverified HTTPS request is being made to host 'granite-aiops.apps.cluster-hdmxf.hdmxf.sandbox689.opentlc.com'. Adding certificate verification is strongly advised. See: https://urllib3.readthedocs.io/en/latest/advanced-usage.html#tls-warnings\n",
      "  warnings.warn(\n"
     ]
    },
    {
     "name": "stdout",
     "output_type": "stream",
     "text": [
      "    ✅ Analysis complete.\n",
      "\n",
      "==================================================\n",
      "     AIOps Incident Remediation Report\n",
      "==================================================\n",
      "\n",
      "\n",
      "--- AIOPS INCIDENT REPORT ---\n",
      "\n",
      "**INCIDENT ID:** INC001\n",
      "**DETECTED:** 2023-10-12 12:34:56\n",
      "**SEVERITY:** High\n",
      "**STATUS:** Ongoing\n",
      "**AFFECTED SERVICE:** httpd\n",
      "**AFFECTED HOST:** aiops\n",
      "**SUMMARY:** The httpd service on the aiops host is in an UNKNOWN state and not listening on port 80.\n",
      "**KEY ERROR LOG:** HTTP Response: -1\n",
      "\n",
      "**ROOT CAUSE:**\n",
      "The httpd service is in an UNKNOWN state, which could be due to a misconfiguration, a failed startup, or a missing package. The fact that it's not listening on port 80 suggests a potential issue with the service configuration or a failed startup.\n",
      "\n",
      "**REMEDIATION PLAYBOOK:**\n",
      "\n",
      "1. Check the service status: `systemctl status httpd`\n",
      "2. Restart the service: `systemctl restart httpd`\n",
      "3. Verify the service is running: `systemctl is-active httpd`\n",
      "4. Check if the service is listening on port 80: `ss -tlnp | grep :80`\n",
      "5. If the service is not listening, update the firewall rules: `firewall-cmd --permanent --add-port=80/tcp`\n",
      "6. Reload the firewall rules: `firewall-cmd --reload`\n",
      "\n",
      "**VALIDATION:**\n",
      "After the remediation steps, confirm the fix by running `systemctl is-active httpd` and `ss -tlnp | grep :80`.\n",
      "\n",
      "--- AIOPS INCIDENT REPORT END ---\n"
     ]
    }
   ],
   "source": [
    "\n",
    "# --- Main Execution ---\n",
    "def main(log_content):\n",
    "    \"\"\"Main function to run the AIOps report generation.\"\"\"\n",
    "    # Check if the log content is valid before proceeding\n",
    "    if log_content and log_content.strip():\n",
    "        incident_report = query_model_for_report(log_content)\n",
    "        \n",
    "        print(\"\\n\" + \"=\"*50)\n",
    "        print(\"     AIOps Incident Remediation Report\")\n",
    "        print(\"=\"*50 + \"\\n\")\n",
    "        print(incident_report)\n",
    "        \n",
    "    elif log_content is not None:\n",
    "        print(f\"\\n❌ Analysis skipped: The log file '{LOG_FILE}' is empty.\")\n",
    "    else:\n",
    "        print(f\"\\n❌ Analysis skipped: Failed to read '{LOG_FILE}' from MinIO.\")\n",
    "\n",
    "\n",
    "if __name__ == \"__main__\":\n",
    "    # List files in the bucket for verification first\n",
    "    list_files_in_minio(MINIO_BUCKET)\n",
    "\n",
    "    # Read the specified log file from MinIO\n",
    "    log_content = read_log_from_minio(MINIO_BUCKET, LOG_FILE)\n",
    "    \n",
    "    # Print the content of the file that was read\n",
    "    if log_content:\n",
    "        print(f\"\\n--- Content of {LOG_FILE} ---\")\n",
    "        print(log_content)\n",
    "        print(\"---------------------------------\\n\")\n",
    "\n",
    "    # Now, call the main function to process the log content and generate the report\n",
    "    main(log_content)\n"
   ]
  },
  {
   "cell_type": "code",
   "execution_count": 47,
   "id": "320492ff-88af-4411-a2a2-47b62c403da2",
   "metadata": {},
   "outputs": [],
   "source": [
    "KEYWORDS_FILE = \"extracted_keywords.json\""
   ]
  },
  {
   "cell_type": "code",
   "execution_count": 49,
   "id": "cdc1ff73-d1ea-4571-a78f-7220fd9775ad",
   "metadata": {},
   "outputs": [
    {
     "name": "stdout",
     "output_type": "stream",
     "text": [
      "==============================================\n",
      "    AIOps PIPELINE: KEYWORDS TO PLAYBOOK\n",
      "==============================================\n",
      "--> Step 1: Reading keywords from 'extracted_keywords.json'...\n",
      "    ✅ Successfully read keywords.\n",
      "\n",
      "--> Step 2: Generating Ansible playbook for aiops.demo.vm...\n",
      "   ❌ Error generating YAML: name 'yaml' is not defined\n"
     ]
    },
    {
     "ename": "SystemExit",
     "evalue": "Pipeline stopped: Could not generate the Ansible playbook.",
     "output_type": "error",
     "traceback": [
      "An exception has occurred, use %tb to see the full traceback.\n",
      "\u001b[31mSystemExit\u001b[39m\u001b[31m:\u001b[39m Pipeline stopped: Could not generate the Ansible playbook.\n"
     ]
    }
   ],
   "source": [
    "\n",
    "def read_keywords_from_json(filename):\n",
    "    \"\"\"Reads the extracted keywords from a JSON file.\"\"\"\n",
    "    print(f\"--> Step 1: Reading keywords from '{filename}'...\")\n",
    "    try:\n",
    "        with open(filename, 'r') as f:\n",
    "            keywords = json.load(f)\n",
    "        \n",
    "        if \"affected_host\" in keywords and \"affected_service\" in keywords:\n",
    "            print(f\"    ✅ Successfully read keywords.\")\n",
    "            return keywords\n",
    "        else:\n",
    "            print(f\"    ❌ Error: JSON file is missing 'affected_host' or 'affected_service' keys.\")\n",
    "            return None\n",
    "            \n",
    "    except FileNotFoundError:\n",
    "        print(f\"    ❌ Error: The file '{filename}' was not found. Please run the extraction script first.\")\n",
    "    except Exception as e:\n",
    "        print(f\"    ❌ An error occurred while reading the JSON file: {e}\")\n",
    "    return None\n",
    "\n",
    "def generate_ansible_playbook(host, service):\n",
    "    \"\"\"Generates a diagnostic Ansible playbook in YAML format.\"\"\"\n",
    "    print(f\"\\n--> Step 2: Generating Ansible playbook for {host}...\")\n",
    "    \n",
    "    # This dictionary structure represents the desired Ansible Playbook format.\n",
    "    playbook_data = [\n",
    "        {\n",
    "            'name': 'Webserver Diagnostic Toolkit',\n",
    "            'hosts': host,\n",
    "            'become': True,\n",
    "            'vars': {\n",
    "                'webserver_service': service,\n",
    "                'website_url': f\"http://{host}\",\n",
    "                'check_port': 80\n",
    "            },\n",
    "            'tasks': [\n",
    "                {\n",
    "                    'name': f\"Check status of {service} service\",\n",
    "                    'ansible.builtin.service_facts': {}\n",
    "                },\n",
    "                {\n",
    "                    'name': 'Display service status from facts',\n",
    "                    'ansible.builtin.debug': {\n",
    "                        'msg': f\"The state of {service} is {{'{{'}} ansible_facts.services['{service}.service'].state {{'}}'}}\"\n",
    "                    }\n",
    "                },\n",
    "                {\n",
    "                    'name': 'Check if webserver port is open',\n",
    "                    'ansible.builtin.wait_for': {\n",
    "                        'port': \"{{ check_port }}\",\n",
    "                        'host': \"0.0.0.0\",\n",
    "                        'state': \"started\",\n",
    "                        'timeout': 5\n",
    "                    }\n",
    "                }\n",
    "            ]\n",
    "        }\n",
    "    ]\n",
    "\n",
    "    try:\n",
    "        # Use yaml.dump to convert the Python dictionary to a clean YAML string\n",
    "        # sort_keys=False preserves the order of the dictionary.\n",
    "        yaml_output = yaml.dump(playbook_data, sort_keys=False, indent=2)\n",
    "        print(\"    ✅ Ansible Playbook generated successfully.\")\n",
    "        return yaml_output\n",
    "    except ImportError:\n",
    "        print(\"    ❌ PyYAML is not installed. Please run 'pip install pyyaml' to generate the playbook.\")\n",
    "        return None\n",
    "    except Exception as e:\n",
    "        print(f\"   ❌ Error generating YAML: {e}\")\n",
    "        return None\n",
    "\n",
    "\n",
    "# --- Main Execution ---\n",
    "def main():\n",
    "    \"\"\"Main function to run the AIOps workflow.\"\"\"\n",
    "    # 1. Read the keywords from the JSON file\n",
    "    keywords = read_keywords_from_json(KEYWORDS_FILE)\n",
    "    if not keywords:\n",
    "        sys.exit(\"Pipeline stopped: Could not retrieve keywords.\")\n",
    "        \n",
    "    # 2. Generate the Ansible playbook using the keywords\n",
    "    ansible_playbook = generate_ansible_playbook(\n",
    "        keywords.get(\"affected_host\"), \n",
    "        keywords.get(\"affected_service\")\n",
    "    )\n",
    "    if not ansible_playbook:\n",
    "        sys.exit(\"Pipeline stopped: Could not generate the Ansible playbook.\")\n",
    "\n",
    "    # 3. Print the final, clean report\n",
    "    print(\"\\n\" + \"=\"*50)\n",
    "    print(\"      AIOps Generated Ansible Playbook\")\n",
    "    print(\"=\"*50 + \"\\n\")\n",
    "    print(ansible_playbook)\n",
    "\n",
    "\n",
    "if __name__ == \"__main__\":\n",
    "    print(\"==============================================\")\n",
    "    print(\"    AIOps PIPELINE: KEYWORDS TO PLAYBOOK\")\n",
    "    print(\"==============================================\")\n",
    "    main()\n",
    "    print(\"\\n==============================================\")\n",
    "    print(\"            PIPELINE COMPLETE\")\n",
    "    print(\"==============================================\")\n"
   ]
  },
  {
   "cell_type": "code",
   "execution_count": null,
   "id": "b16e2bd6-2f88-4164-8a1b-acdab739e843",
   "metadata": {},
   "outputs": [],
   "source": []
  }
 ],
 "metadata": {
  "kernelspec": {
   "display_name": "Python 3.11",
   "language": "python",
   "name": "python3"
  },
  "language_info": {
   "codemirror_mode": {
    "name": "ipython",
    "version": 3
   },
   "file_extension": ".py",
   "mimetype": "text/x-python",
   "name": "python",
   "nbconvert_exporter": "python",
   "pygments_lexer": "ipython3",
   "version": "3.11.9"
  }
 },
 "nbformat": 4,
 "nbformat_minor": 5
}

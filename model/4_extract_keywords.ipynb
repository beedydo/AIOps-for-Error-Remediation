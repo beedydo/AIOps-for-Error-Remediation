{
 "cells": [
  {
   "cell_type": "code",
   "execution_count": 1,
   "id": "8fe1b545-c740-4baf-8838-56ec401aab00",
   "metadata": {},
   "outputs": [],
   "source": [
    "\n",
    "import requests\n",
    "import json\n",
    "import boto3\n",
    "from botocore.exceptions import NoCredentialsError\n",
    "import sys\n",
    "import re"
   ]
  },
  {
   "cell_type": "code",
   "execution_count": 2,
   "id": "fd0364de-b57e-4fab-9bb2-86799a54507b",
   "metadata": {},
   "outputs": [],
   "source": [
    "\n",
    "# AI Model Settings\n",
    "INFERENCE_ENDPOINT = \"https://granite-aiops.apps.cluster-hdmxf.hdmxf.sandbox689.opentlc.com\"\n",
    "MODEL_API_URL = f\"{INFERENCE_ENDPOINT}/v1/completions\"\n",
    "MODEL_NAME = \"granite\"\n",
    "\n",
    "# MinIO Storage Settings\n",
    "MINIO_ENDPOINT = \"minio-api-aiops.apps.cluster-hdmxf.hdmxf.sandbox689.opentlc.com\"\n",
    "MINIO_ACCESS_KEY = \"minio\"\n",
    "MINIO_SECRET_KEY = \"minio123\"\n",
    "MINIO_BUCKET = \"logs\"\n",
    "LOG_FILE = \"service_error.txt\""
   ]
  },
  {
   "cell_type": "code",
   "execution_count": 3,
   "id": "09352adf-a29e-4caf-9977-d063807ac7fb",
   "metadata": {},
   "outputs": [],
   "source": [
    "\n",
    "def read_log_from_minio(bucket_name, object_name):\n",
    "    \"\"\"Reads a log file's content from a MinIO bucket.\"\"\"\n",
    "    print(f\"--> Step 1: Reading '{object_name}' from bucket '{bucket_name}'...\")\n",
    "    try:\n",
    "        s3_client = boto3.client(\n",
    "            's3',\n",
    "            endpoint_url=f\"http://{MINIO_ENDPOINT}\",\n",
    "            aws_access_key_id=MINIO_ACCESS_KEY,\n",
    "            aws_secret_access_key=MINIO_SECRET_KEY\n",
    "        )\n",
    "        response = s3_client.get_object(Bucket=bucket_name, Key=object_name)\n",
    "        content = response['Body'].read().decode('utf-8')\n",
    "        print(f\"    ✅ Successfully read log content from MinIO.\")\n",
    "        return content\n",
    "    except Exception as e:\n",
    "        print(f\"    ❌ An error occurred while reading from MinIO: {e}\")\n",
    "    return None\n"
   ]
  },
  {
   "cell_type": "code",
   "execution_count": 4,
   "id": "75280f01-a605-4ae3-8dcf-9ba6ee003f89",
   "metadata": {
    "scrolled": true
   },
   "outputs": [
    {
     "name": "stdout",
     "output_type": "stream",
     "text": [
      "--> Step 1: Reading 'service_error.txt' from bucket 'logs'...\n",
      "    ✅ Successfully read log content from MinIO.\n"
     ]
    },
    {
     "data": {
      "text/plain": [
       "'httpd.service - The Apache HTTP Server\\n     Loaded: loaded (/usr/lib/systemd/system/httpd.service; enabled; vendor preset: disabled)\\n     Active: inactive (dead) since Mon 2025-06-16 10:14:32 UTC; 5min ago\\n       Docs: man:httpd.service(8)\\n\\nJun 16 10:14:32 server1 systemd[1]: Stopping The Apache HTTP Server...\\nJun 16 10:14:32 server1 httpd[12345]: AH00015: SIGTERM received. Shutting down.\\nJun 16 10:14:32 server1 systemd[1]: httpd.service: Succeeded.\\nJun 16 10:14:32 server1 systemd[1]: Stopped The Apache HTTP Server.'"
      ]
     },
     "execution_count": 4,
     "metadata": {},
     "output_type": "execute_result"
    }
   ],
   "source": [
    "read_log_from_minio(MINIO_BUCKET, LOG_FILE)"
   ]
  },
  {
   "cell_type": "code",
   "execution_count": 9,
   "id": "5bc0f0b9-9044-45e7-b5f5-4f5021263cdc",
   "metadata": {},
   "outputs": [
    {
     "name": "stdout",
     "output_type": "stream",
     "text": [
      "==============================================\n",
      "      AIOps PIPELINE: LOGS TO KEYWORDS\n",
      "==============================================\n",
      "--> Step 1: Reading 'service_error.txt' from bucket 'logs'...\n",
      "    ✅ Successfully read log content from MinIO.\n",
      "\n",
      "--> Step 2: Querying AI model for full report...\n"
     ]
    },
    {
     "name": "stderr",
     "output_type": "stream",
     "text": [
      "/opt/app-root/lib64/python3.11/site-packages/urllib3/connectionpool.py:1097: InsecureRequestWarning: Unverified HTTPS request is being made to host 'granite-aiops.apps.cluster-hdmxf.hdmxf.sandbox689.opentlc.com'. Adding certificate verification is strongly advised. See: https://urllib3.readthedocs.io/en/latest/advanced-usage.html#tls-warnings\n",
      "  warnings.warn(\n"
     ]
    },
    {
     "name": "stdout",
     "output_type": "stream",
     "text": [
      "    ✅ AI analysis complete.\n",
      "\n",
      "--> Step 3: Saving full report to 'report.json'...\n",
      "    ✅ Successfully saved full report.\n",
      "\n",
      "--> Step 4: Extracting and normalizing keywords from 'report.json'...\n",
      "    ✅ Affected Host:    'server1'\n",
      "    ✅ Affected Service: 'httpd'\n",
      "    ✅ Successfully saved keywords to 'extracted_keywords.json'.\n",
      "\n",
      "==============================================\n",
      "            PIPELINE COMPLETE\n",
      "==============================================\n"
     ]
    }
   ],
   "source": [
    "def query_model_for_report(logs):\n",
    "    \"\"\"Queries the AI model to generate a full incident report.\"\"\"\n",
    "    print(f\"\\n--> Step 2: Querying AI model for full report...\")\n",
    "    prompt = f\"\"\"\n",
    "Generate a concise, structured AIOps incident report based on the following logs. The service name must be the short, executable name (e.g., 'httpd').\n",
    "The report must be in Markdown format and include:\n",
    "1. Key metadata: INCIDENT ID, DETECTED, SEVERITY, STATUS, AFFECTED SERVICE, AFFECTED HOST, SUMMARY, and KEY ERROR LOG.\n",
    "2. A ROOT CAUSE section explaining the 'why'.\n",
    "3. A REMEDIATION PLAYBOOK section with exact, numbered shell commands to fix the issue.\n",
    "4. A VALIDATION section with a command to confirm the fix.\n",
    "\n",
    "--- LOGS START ---\n",
    "{logs}\n",
    "--- LOGS END ---\n",
    "\"\"\"\n",
    "    headers = {\"Content-Type\": \"application/json\"}\n",
    "    payload = {\"model\": MODEL_NAME, \"prompt\": prompt, \"max_tokens\": 512}\n",
    "    \n",
    "    try:\n",
    "        response = requests.post(MODEL_API_URL, headers=headers, json=payload, verify=False)\n",
    "        response.raise_for_status()\n",
    "        result = response.json()\n",
    "        if 'choices' in result and result['choices']:\n",
    "            report_text = result['choices'][0].get('text', 'Error: Could not extract report.')\n",
    "            print(\"    ✅ AI analysis complete.\")\n",
    "            return report_text\n",
    "    except Exception as e:\n",
    "        print(f\"    ❌ Error querying model: {e}\")\n",
    "    return None\n",
    "\n",
    "def save_report_to_json(report_text, filename=\"report.json\"):\n",
    "    \"\"\"Saves the raw report text into a JSON file.\"\"\"\n",
    "    print(f\"\\n--> Step 3: Saving full report to '{filename}'...\")\n",
    "    try:\n",
    "        report_data = {\"report_content\": report_text}\n",
    "        with open(filename, 'w') as f:\n",
    "            json.dump(report_data, f, indent=4)\n",
    "        print(f\"    ✅ Successfully saved full report.\")\n",
    "        return filename\n",
    "    except Exception as e:\n",
    "        print(f\"    ❌ Error saving report to JSON: {e}\")\n",
    "    return None\n",
    "\n",
    "def extract_and_save_keywords(report_filename=\"report.json\", output_filename=\"extracted_keywords.json\"):\n",
    "    \"\"\"Reads the full report, extracts keywords, and saves them to a new file.\"\"\"\n",
    "    print(f\"\\n--> Step 4: Extracting and normalizing keywords from '{report_filename}'...\")\n",
    "    try:\n",
    "        with open(report_filename, 'r') as f:\n",
    "            data = json.load(f)\n",
    "        report_content = data.get(\"report_content\")\n",
    "\n",
    "        details = {}\n",
    "        # Using a simpler, more direct regex pattern that is less fragile.\n",
    "        host_pattern = re.search(r\"AFFECTED HOST:\\s*(.*)\", report_content, re.IGNORECASE)\n",
    "        service_pattern = re.search(r\"AFFECTED SERVICE:\\s*(.*)\", report_content, re.IGNORECASE)\n",
    "\n",
    "        if host_pattern:\n",
    "            details[\"affected_host\"] = host_pattern.group(1).strip()\n",
    "            \n",
    "        if service_pattern:\n",
    "            # Normalize the extracted service name to be playbook-ready.\n",
    "            raw_service_name = service_pattern.group(1).strip()\n",
    "            \n",
    "            # --- Normalization Logic ---\n",
    "            # Rule 1: Check for common descriptive names and map them to the correct service name.\n",
    "            if \"apache\" in raw_service_name.lower():\n",
    "                normalized_service = \"httpd\"\n",
    "            elif \"nginx\" in raw_service_name.lower():\n",
    "                normalized_service = \"nginx\"\n",
    "            elif \"mariadb\" in raw_service_name.lower():\n",
    "                normalized_service = \"mariadb\"\n",
    "            elif \"mysql\" in raw_service_name.lower():\n",
    "                normalized_service = \"mysql\"\n",
    "            else:\n",
    "                # If no specific mapping is found, use the raw name\n",
    "                normalized_service = raw_service_name\n",
    "\n",
    "            # Rule 2: Clean up the result by removing the '.service' suffix if it exists.\n",
    "            if normalized_service.endswith('.service'):\n",
    "                normalized_service = normalized_service[:-len('.service')]\n",
    "\n",
    "            details[\"affected_service\"] = normalized_service\n",
    "\n",
    "        if \"affected_host\" in details and \"affected_service\" in details:\n",
    "            print(f\"    ✅ Affected Host:    '{details['affected_host']}'\")\n",
    "            print(f\"    ✅ Affected Service: '{details['affected_service']}'\")\n",
    "            \n",
    "            with open(output_filename, 'w') as out_f:\n",
    "                json.dump(details, out_f, indent=4)\n",
    "            print(f\"    ✅ Successfully saved keywords to '{output_filename}'.\")\n",
    "            return True\n",
    "        else:\n",
    "            print(\"    ❌ Could not extract necessary details from the report.\")\n",
    "            if not host_pattern:\n",
    "                print(\"       - 'AFFECTED HOST' keyword not found in the report.\")\n",
    "            if not service_pattern:\n",
    "                print(\"       - 'AFFECTED SERVICE' keyword not found in the report.\")\n",
    "            return False\n",
    "            \n",
    "    except FileNotFoundError:\n",
    "        print(f\"    ❌ Error: The file '{report_filename}' was not found.\")\n",
    "    except Exception as e:\n",
    "        print(f\"    ❌ An error occurred during keyword extraction: {e}\")\n",
    "    return False\n",
    "\n",
    "# --- Main Execution ---\n",
    "def main():\n",
    "    \"\"\"Main function to run the AIOps workflow.\"\"\"\n",
    "    # 1. Read the specified log file from MinIO\n",
    "    log_content = read_log_from_minio(MINIO_BUCKET, LOG_FILE)\n",
    "    if not log_content:\n",
    "        sys.exit(\"Pipeline stopped: Could not retrieve logs.\")\n",
    "        \n",
    "    # 2. Query the model to generate the full incident report\n",
    "    incident_report = query_model_for_report(log_content)\n",
    "    if not incident_report:\n",
    "        sys.exit(\"Pipeline stopped: Could not generate AI report.\")\n",
    "\n",
    "    # 3. Save the full report to `report.json`\n",
    "    report_file = save_report_to_json(incident_report)\n",
    "    if not report_file:\n",
    "        sys.exit(\"Pipeline stopped: Failed to save the report.\")\n",
    "        \n",
    "    # 4. Extract keywords from the file just created and save to a new file\n",
    "    extract_and_save_keywords(report_file)\n",
    "\n",
    "\n",
    "if __name__ == \"__main__\":\n",
    "    print(\"==============================================\")\n",
    "    print(\"      AIOps PIPELINE: LOGS TO KEYWORDS\")\n",
    "    print(\"==============================================\")\n",
    "    main()\n",
    "    print(\"\\n==============================================\")\n",
    "    print(\"            PIPELINE COMPLETE\")\n",
    "    print(\"==============================================\")"
   ]
  },
  {
   "cell_type": "code",
   "execution_count": null,
   "id": "d249a720-83b5-4694-8a12-239da1b8c38a",
   "metadata": {},
   "outputs": [],
   "source": []
  }
 ],
 "metadata": {
  "kernelspec": {
   "display_name": "Python 3.11",
   "language": "python",
   "name": "python3"
  },
  "language_info": {
   "codemirror_mode": {
    "name": "ipython",
    "version": 3
   },
   "file_extension": ".py",
   "mimetype": "text/x-python",
   "name": "python",
   "nbconvert_exporter": "python",
   "pygments_lexer": "ipython3",
   "version": "3.11.9"
  }
 },
 "nbformat": 4,
 "nbformat_minor": 5
}

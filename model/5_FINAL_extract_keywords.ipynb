{
 "cells": [
  {
   "cell_type": "code",
   "execution_count": 1,
   "id": "2e1d3167-9137-4947-bde3-cbabcb2ffd36",
   "metadata": {},
   "outputs": [],
   "source": [
    "import requests\n",
    "import json\n",
    "import boto3\n",
    "from botocore.exceptions import NoCredentialsError\n",
    "import sys\n",
    "import re\n"
   ]
  },
  {
   "cell_type": "code",
   "execution_count": 13,
   "id": "8a1c4c0b-c3d0-4c6f-bb6b-25d6c45a65ea",
   "metadata": {},
   "outputs": [],
   "source": [
    "KEYWORDS_FILE = \"extracted_keywords.json\"\n"
   ]
  },
  {
   "cell_type": "code",
   "execution_count": 14,
   "id": "5fc87499-c519-4b81-8edb-145ab43ca2ae",
   "metadata": {},
   "outputs": [],
   "source": [
    "\n",
    "def read_keywords_from_json(filename):\n",
    "    \"\"\"Reads the extracted keywords from a JSON file.\"\"\"\n",
    "    print(f\"--> Step 1: Reading keywords from '{filename}'...\")\n",
    "    try:\n",
    "        with open(filename, 'r') as f:\n",
    "            keywords = json.load(f)\n",
    "        \n",
    "        if \"affected_host\" in keywords and \"affected_service\" in keywords:\n",
    "            print(f\"    ✅ Successfully read keywords.\")\n",
    "            return keywords\n",
    "        else:\n",
    "            print(f\"    ❌ Error: JSON file is missing 'affected_host' or 'affected_service' keys.\")\n",
    "            return None\n",
    "            \n",
    "    except FileNotFoundError:\n",
    "        print(f\"    ❌ Error: The file '{filename}' was not found. Please run the extraction script first.\")\n",
    "    except Exception as e:\n",
    "        print(f\"    ❌ An error occurred while reading the JSON file: {e}\")\n",
    "    return None\n"
   ]
  },
  {
   "cell_type": "code",
   "execution_count": 15,
   "id": "64e7efc9-ea70-420b-9cea-26f8288f9c80",
   "metadata": {},
   "outputs": [
    {
     "name": "stdout",
     "output_type": "stream",
     "text": [
      "--> Step 1: Reading keywords from 'extracted_keywords.json'...\n",
      "    ✅ Successfully read keywords.\n"
     ]
    },
    {
     "data": {
      "text/plain": [
       "{'affected_host': 'server1', 'affected_service': 'httpd'}"
      ]
     },
     "execution_count": 15,
     "metadata": {},
     "output_type": "execute_result"
    }
   ],
   "source": [
    "read_keywords_from_json(KEYWORDS_FILE)"
   ]
  },
  {
   "cell_type": "code",
   "execution_count": 16,
   "id": "250bd23e-b2d7-48ff-8cf6-ed0655d9afd6",
   "metadata": {},
   "outputs": [
    {
     "name": "stdout",
     "output_type": "stream",
     "text": [
      "==============================================\n",
      "    AIOps PIPELINE: KEYWORDS TO HEALTH REPORT\n",
      "==============================================\n",
      "--> Step 1: Reading keywords from 'extracted_keywords.json'...\n",
      "    ✅ Successfully read keywords.\n",
      "\n",
      "--> Step 2: Generating health report for server1...\n",
      "    ✅ Health report generated successfully.\n",
      "\n",
      "==================================================\n",
      "      AIOps Generated Health Report\n",
      "==================================================\n",
      "\n",
      "HTTP SERVER HEALTH REPORT\n",
      "=========================\n",
      "[Basic Information]\n",
      "- Hostname: server1\n",
      "- OS: RedHat 9.2\n",
      "\n",
      "[Web Server Status]\n",
      "- Installed: Yes\n",
      "- Service Status: RUNNING\n",
      "- Listening on Port 80: Yes\n",
      "\n",
      "[Security Configuration]\n",
      "- Firewall Rules:\n",
      "    - Allow HTTP (80/tcp)\n",
      "    - Allow HTTPS (443/tcp)\n",
      "\n",
      "[Connectivity]\n",
      "- HTTP Response: 200\n",
      "- Config Valid: Valid\n",
      "\n",
      "==============================================\n",
      "            PIPELINE COMPLETE\n",
      "==============================================\n"
     ]
    }
   ],
   "source": [
    "\n",
    "def generate_health_report(host, service):\n",
    "    \"\"\"Generates a clean health report from the provided host and service.\"\"\"\n",
    "    print(f\"\\n--> Step 2: Generating health report for {host}...\")\n",
    "    \n",
    "    # This function now uses the keywords to directly build the report string.\n",
    "    # The OS and Firewall rules are hardcoded for this specific report template.\n",
    "    report = f\"\"\"\n",
    "HTTP SERVER HEALTH REPORT\n",
    "=========================\n",
    "[Basic Information]\n",
    "- Hostname: {host}\n",
    "- OS: RedHat 9.2\n",
    "\n",
    "[Web Server Status]\n",
    "- Installed: Yes\n",
    "- Service Status: RUNNING\n",
    "- Listening on Port 80: Yes\n",
    "\n",
    "[Security Configuration]\n",
    "- Firewall Rules:\n",
    "    - Allow HTTP (80/tcp)\n",
    "    - Allow HTTPS (443/tcp)\n",
    "\n",
    "[Connectivity]\n",
    "- HTTP Response: 200\n",
    "- Config Valid: Valid\n",
    "\"\"\"\n",
    "    print(\"    ✅ Health report generated successfully.\")\n",
    "    return report.strip()\n",
    "\n",
    "\n",
    "# --- Main Execution ---\n",
    "def main():\n",
    "    \"\"\"Main function to run the AIOps workflow.\"\"\"\n",
    "    # 1. Read the keywords from the JSON file\n",
    "    keywords = read_keywords_from_json(KEYWORDS_FILE)\n",
    "    if not keywords:\n",
    "        sys.exit(\"Pipeline stopped: Could not retrieve keywords.\")\n",
    "        \n",
    "    # 2. Generate the health report using the keywords\n",
    "    health_report = generate_health_report(\n",
    "        keywords.get(\"affected_host\"), \n",
    "        keywords.get(\"affected_service\")\n",
    "    )\n",
    "    if not health_report:\n",
    "        sys.exit(\"Pipeline stopped: Could not generate the health report.\")\n",
    "\n",
    "    # 3. Print the final, clean report\n",
    "    print(\"\\n\" + \"=\"*50)\n",
    "    print(\"      AIOps Generated Health Report\")\n",
    "    print(\"=\"*50 + \"\\n\")\n",
    "    print(health_report)\n",
    "\n",
    "\n",
    "if __name__ == \"__main__\":\n",
    "    print(\"==============================================\")\n",
    "    print(\"    AIOps PIPELINE: KEYWORDS TO HEALTH REPORT\")\n",
    "    print(\"==============================================\")\n",
    "    main()\n",
    "    print(\"\\n==============================================\")\n",
    "    print(\"            PIPELINE COMPLETE\")\n",
    "    print(\"==============================================\")\n"
   ]
  },
  {
   "cell_type": "code",
   "execution_count": null,
   "id": "02e41f01-b8a2-463c-bb70-32e930a01659",
   "metadata": {},
   "outputs": [],
   "source": []
  }
 ],
 "metadata": {
  "kernelspec": {
   "display_name": "Python 3.11",
   "language": "python",
   "name": "python3"
  },
  "language_info": {
   "codemirror_mode": {
    "name": "ipython",
    "version": 3
   },
   "file_extension": ".py",
   "mimetype": "text/x-python",
   "name": "python",
   "nbconvert_exporter": "python",
   "pygments_lexer": "ipython3",
   "version": "3.11.9"
  }
 },
 "nbformat": 4,
 "nbformat_minor": 5
}

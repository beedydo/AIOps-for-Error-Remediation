{
 "cells": [
  {
   "cell_type": "code",
   "execution_count": 9,
   "id": "deabc811-c011-41ef-aa0e-7018c8b9596d",
   "metadata": {},
   "outputs": [],
   "source": [
    "import os\n",
    "import io\n",
    "import boto3"
   ]
  },
  {
   "cell_type": "code",
   "execution_count": 10,
   "id": "ea00dace-b67c-4476-9aaf-63d367ed7e9f",
   "metadata": {},
   "outputs": [],
   "source": [
    "key_id = os.getenv(\"AWS_ACCESS_KEY_ID\")\n",
    "secret_key = os.getenv(\"AWS_SECRET_ACCESS_KEY\")\n",
    "region = os.getenv(\"AWS_DEFAULT_REGION\")\n",
    "endpoint = os.getenv(\"AWS_S3_ENDPOINT\")\n",
    "bucket_name = \"logs\"\n",
    "log_file = \"service_error_down.txt\""
   ]
  },
  {
   "cell_type": "code",
   "execution_count": 11,
   "id": "8f4ed1a7-6cba-490f-a670-5bb06221c8eb",
   "metadata": {},
   "outputs": [],
   "source": [
    "s3 = boto3.client(\n",
    "    \"s3\",\n",
    "    region,\n",
    "    aws_access_key_id=key_id,\n",
    "    aws_secret_access_key=secret_key,\n",
    "    endpoint_url=endpoint,\n",
    "    use_ssl=False\n",
    ")"
   ]
  },
  {
   "cell_type": "code",
   "execution_count": 12,
   "id": "9614abde-de37-48c1-8682-bcf4fa783ccc",
   "metadata": {},
   "outputs": [],
   "source": [
    "s3.download_file(bucket_name, log_file, log_file)"
   ]
  },
  {
   "cell_type": "code",
   "execution_count": 13,
   "id": "23992ac8-f3bf-4786-82fa-65d7deb4b912",
   "metadata": {},
   "outputs": [],
   "source": [
    "# TODO \n",
    "# Logic for fetching the error from EDA goes here"
   ]
  },
  {
   "cell_type": "code",
   "execution_count": 14,
   "id": "4b08db84-14a7-42c1-bdd6-e8d588975d4b",
   "metadata": {},
   "outputs": [
    {
     "name": "stdout",
     "output_type": "stream",
     "text": [
      "HTTP SERVER HEALTH REPORT\\n=========================\\n[Basic Information]\\n- Hostname: aiops\\n- OS: RedHat 9.5\\n\\n[Web Server Status]\\n- Installed: Yes\\n- Service Status: UNKNOWN\\n- Listening on Port 80: No\\n\\n[Security Configuration]\\n\\n\\n[Connectivity]\\n- HTTP Response: -1\\n- Config Valid: Valid\\n\n"
     ]
    }
   ],
   "source": [
    "with open(log_file, \"r\") as f:\n",
    "    error_msg = f.read().strip()\n",
    "print(error_msg)\n"
   ]
  },
  {
   "cell_type": "code",
   "execution_count": null,
   "id": "237289a6-b4e7-4fe9-b2f0-09ce09ada517",
   "metadata": {},
   "outputs": [],
   "source": []
  }
 ],
 "metadata": {
  "kernelspec": {
   "display_name": "Python 3.11",
   "language": "python",
   "name": "python3"
  },
  "language_info": {
   "codemirror_mode": {
    "name": "ipython",
    "version": 3
   },
   "file_extension": ".py",
   "mimetype": "text/x-python",
   "name": "python",
   "nbconvert_exporter": "python",
   "pygments_lexer": "ipython3",
   "version": "3.11.9"
  }
 },
 "nbformat": 4,
 "nbformat_minor": 5
}

{
 "cells": [
  {
   "cell_type": "code",
   "execution_count": 3,
   "id": "23992ac8-f3bf-4786-82fa-65d7deb4b912",
   "metadata": {},
   "outputs": [],
   "source": [
    "# TODO \n",
    "# Logic for fetching the error from EDA goes here"
   ]
  },
  {
   "cell_type": "code",
   "execution_count": 1,
   "id": "4b08db84-14a7-42c1-bdd6-e8d588975d4b",
   "metadata": {},
   "outputs": [
    {
     "name": "stdout",
     "output_type": "stream",
     "text": [
      "● firewalld.service - firewalld - dynamic firewall daemon\n",
      "   Loaded: loaded (/usr/lib/systemd/system/firewalld.service; enabled; vendor preset: enabled)\n",
      "   Active: inactive (dead) since Fri 2025-06-06 10:22:15 UTC; 3min ago\n",
      "     Docs: man:firewalld(1)\n",
      "  Process: 1156 ExecStart=/usr/sbin/firewalld --nofork --nopid $FIREWALLD_ARGS (code=exited, status=0/SUCCESS)\n",
      " Main PID: 1156 (code=exited, status=0/SUCCESS)\n",
      "\n",
      "Jun 06 10:20:00 rhel-vm.example.com systemd[1]: Starting firewalld - dynamic firewall daemon...\n",
      "Jun 06 10:22:15 rhel-vm.example.com systemd[1]: Stopping firewalld - dynamic firewall daemon...\n",
      "Jun 06 10:22:15 rhel-vm.example.com systemd[1]: firewalld.service: Succeeded.\n",
      "Jun 06 10:22:15 rhel-vm.example.com systemd[1]: Stopped firewalld - dynamic firewall daemon.\n"
     ]
    }
   ],
   "source": [
    "with open(\"error.txt\", \"r\") as f:\n",
    "    error_msg = f.read().strip()\n",
    "print(error_msg)\n"
   ]
  },
  {
   "cell_type": "code",
   "execution_count": null,
   "id": "237289a6-b4e7-4fe9-b2f0-09ce09ada517",
   "metadata": {},
   "outputs": [],
   "source": []
  }
 ],
 "metadata": {
  "kernelspec": {
   "display_name": "Python 3.11",
   "language": "python",
   "name": "python3"
  },
  "language_info": {
   "codemirror_mode": {
    "name": "ipython",
    "version": 3
   },
   "file_extension": ".py",
   "mimetype": "text/x-python",
   "name": "python",
   "nbconvert_exporter": "python",
   "pygments_lexer": "ipython3",
   "version": "3.11.9"
  }
 },
 "nbformat": 4,
 "nbformat_minor": 5
}

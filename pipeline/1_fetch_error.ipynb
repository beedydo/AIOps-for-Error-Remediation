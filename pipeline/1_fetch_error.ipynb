{
 "cells": [
  {
   "cell_type": "code",
   "execution_count": 3,
   "id": "23992ac8-f3bf-4786-82fa-65d7deb4b912",
   "metadata": {},
   "outputs": [],
   "source": [
    "# TODO \n",
    "# Logic for fetching the error from EDA goes here"
   ]
  },
  {
   "cell_type": "code",
   "execution_count": null,
   "id": "4b08db84-14a7-42c1-bdd6-e8d588975d4b",
   "metadata": {},
   "outputs": [],
   "source": [
    "error_msg=\"\""
   ]
  }
 ],
 "metadata": {
  "kernelspec": {
   "display_name": "Python 3.11",
   "language": "python",
   "name": "python3"
  },
  "language_info": {
   "codemirror_mode": {
    "name": "ipython",
    "version": 3
   },
   "file_extension": ".py",
   "mimetype": "text/x-python",
   "name": "python",
   "nbconvert_exporter": "python",
   "pygments_lexer": "ipython3",
   "version": "3.11.9"
  }
 },
 "nbformat": 4,
 "nbformat_minor": 5
}

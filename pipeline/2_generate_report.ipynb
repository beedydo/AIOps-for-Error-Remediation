{
 "cells": [
  {
   "cell_type": "code",
   "execution_count": 16,
   "id": "1d409e06-506e-4d85-8f37-eadc25e40a9b",
   "metadata": {},
   "outputs": [],
   "source": [
    "import requests\n",
    "import json\n",
    "import boto3\n",
    "from botocore.exceptions import NoCredentialsError\n",
    "from datetime import datetime\n",
    "import os\n",
    "import sys"
   ]
  },
  {
   "cell_type": "code",
   "execution_count": 17,
   "id": "b052e8cc-986d-4136-aa03-893128a90baf",
   "metadata": {},
   "outputs": [],
   "source": [
    "# MinIO Storage Settings\n",
    "MINIO_ENDPOINT = os.getenv(\"AWS_S3_ENDPOINT\")\n",
    "MINIO_ACCESS_KEY = os.getenv(\"AWS_ACCESS_KEY_ID\")\n",
    "MINIO_SECRET_KEY = os.getenv(\"AWS_SECRET_ACCESS_KEY\")\n",
    "LOGS_BUCKET = \"logs\"\n",
    "REPORTS_BUCKET = \"report\"\n",
    "LOG_FILE = \"service_error_down.txt\" # This variable will be used throughout the script\n",
    "\n",
    "# LLM Info\n",
    "INFERENCE_ENDPOINT = \"https://granite-aiops.apps.cluster-hdmxf.hdmxf.sandbox689.opentlc.com\"\n",
    "MODEL_API_URL = f\"{INFERENCE_ENDPOINT}/v1/completions\"\n",
    "MODEL_NAME = \"granite\""
   ]
  },
  {
   "cell_type": "code",
   "execution_count": 18,
   "id": "751c7512-b91b-4dc1-b280-5d2d4b4fd331",
   "metadata": {},
   "outputs": [
    {
     "name": "stdout",
     "output_type": "stream",
     "text": [
      "HTTP SERVER HEALTH REPORT\\n=========================\\n[Basic Information]\\n- Hostname: aiops\\n- OS: RedHat 9.5\\n\\n[Web Server Status]\\n- Installed: Yes\\n- Service Status: UNKNOWN\\n- Listening on Port 80: No\\n\\n[Security Configuration]\\n\\n\\n[Connectivity]\\n- HTTP Response: -1\\n- Config Valid: Valid\\n\n"
     ]
    }
   ],
   "source": [
    "# Read log txt file\n",
    "with open(LOG_FILE, \"r\") as f:\n",
    "    logs = f.read().strip()\n",
    "print(logs)"
   ]
  },
  {
   "cell_type": "code",
   "execution_count": 19,
   "id": "7f16aaf1-8edb-4447-9893-dfbae9e9a71b",
   "metadata": {},
   "outputs": [],
   "source": [
    "\n",
    "def query_model_for_report(logs):\n",
    "    \"\"\"Queries the AI model to generate a full incident report.\"\"\"\n",
    "    print(f\"\\n--> Step 1: Querying AI model for full report...\")\n",
    "    prompt = f\"\"\"\n",
    "Generate a concise, structured AIOps incident report based on the following logs. The service name must be the short, executable name (e.g., 'httpd').\n",
    "The report must be in Markdown format and include:\n",
    "1. Key metadata: INCIDENT ID, DETECTED, SEVERITY, STATUS, AFFECTED SERVICE, AFFECTED HOST, SUMMARY, and KEY ERROR LOG.\n",
    "2. A ROOT CAUSE section explaining the 'why'.\n",
    "3. A REMEDIATION PLAYBOOK section with exact, numbered shell commands to fix the issue.\n",
    "4. A VALIDATION section with a command to confirm the fix.\n",
    "\n",
    "--- LOGS START ---\n",
    "{logs}\n",
    "--- LOGS END ---\n",
    "\"\"\"\n",
    "    headers = {\"Content-Type\": \"application/json\"}\n",
    "    payload = {\"model\": MODEL_NAME, \"prompt\": prompt, \"max_tokens\": 512}\n",
    "    \n",
    "    try:\n",
    "        response = requests.post(MODEL_API_URL, headers=headers, json=payload, verify=False)\n",
    "        response.raise_for_status()\n",
    "        result = response.json()\n",
    "        if 'choices' in result and result['choices']:\n",
    "            report_text = result['choices'][0].get('text', 'Error: Could not extract report.')\n",
    "            print(\"    ✅ AI analysis complete.\")\n",
    "            return report_text\n",
    "    except Exception as e:\n",
    "        print(f\"    ❌ Error querying model: {e}\")\n",
    "    return None\n",
    "\n",
    "def save_report_to_json(report_text, filename=\"report.json\"):\n",
    "    \"\"\"Saves the raw report text into a JSON file.\"\"\"\n",
    "    print(f\"\\n--> Step 2: Saving full report to '{filename}'...\")\n",
    "    try:\n",
    "        report_data = {\"report_content\": report_text}\n",
    "        with open(filename, 'w') as f:\n",
    "            json.dump(report_data, f, indent=4)\n",
    "        print(f\"    ✅ Successfully saved full report.\")\n",
    "        return filename\n",
    "    except Exception as e:\n",
    "        print(f\"    ❌ Error saving report to JSON: {e}\")\n",
    "    return None\n",
    "\n",
    "def save_report_to_file(report_text, filename=\"incident_report.txt\"):\n",
    "    \"\"\"Saves the incident report to a text file.\"\"\"\n",
    "    try:\n",
    "        with open(filename, 'w', encoding='utf-8') as file:\n",
    "            file.write(report_text)\n",
    "        print(f\"    💾 Report saved to '{filename}'.\")\n",
    "    except Exception as e:\n",
    "        print(f\"    ❌ Error saving report to file: {e}\")\n"
   ]
  },
  {
   "cell_type": "code",
   "execution_count": 20,
   "id": "0db8cc6a-2fb7-423a-a2ad-dfd3ea4e66d8",
   "metadata": {},
   "outputs": [],
   "source": [
    "def upload_to_minio(s3_client, bucket, object_name, content):\n",
    "    \"\"\"Uploads content to a specified MinIO bucket.\"\"\"\n",
    "    print(f\"--> Uploading '{object_name}' to bucket '{bucket}'...\")\n",
    "    try:\n",
    "        s3_client.put_object(Body=content.encode('utf-8'), Bucket=bucket, Key=object_name)\n",
    "        print(f\"    ✅ Successfully uploaded '{object_name}'.\")\n",
    "        return True\n",
    "    except Exception as e:\n",
    "        print(f\"    ❌ Error uploading to MinIO: {e}\")\n",
    "        return False"
   ]
  },
  {
   "cell_type": "code",
   "execution_count": 21,
   "id": "f8efc710-c55a-40f8-b0af-3e6c7560b533",
   "metadata": {},
   "outputs": [
    {
     "name": "stdout",
     "output_type": "stream",
     "text": [
      "==============================================\n",
      "AIOps PIPELINE STAGE: Generate Incident Report\n",
      "==============================================\n",
      "\n",
      "--> Step 1: Querying AI model for full report...\n"
     ]
    },
    {
     "name": "stderr",
     "output_type": "stream",
     "text": [
      "/opt/app-root/lib64/python3.11/site-packages/urllib3/connectionpool.py:1064: InsecureRequestWarning: Unverified HTTPS request is being made to host 'granite-aiops.apps.cluster-hdmxf.hdmxf.sandbox689.opentlc.com'. Adding certificate verification is strongly advised. See: https://urllib3.readthedocs.io/en/1.26.x/advanced-usage.html#ssl-warnings\n",
      "  warnings.warn(\n"
     ]
    },
    {
     "name": "stdout",
     "output_type": "stream",
     "text": [
      "    ✅ AI analysis complete.\n",
      "    💾 Report saved to 'incident_report.txt'.\n",
      "--> Uploading 'incident_report_20250617_093758' to bucket 'report'...\n",
      "    ✅ Successfully uploaded 'incident_report_20250617_093758'.\n",
      "\n",
      "==============================================\n",
      "                STAGE COMPLETE\n",
      "==============================================\n"
     ]
    }
   ],
   "source": [
    "def main():\n",
    "    \n",
    "    s3_client = boto3.client(\n",
    "    's3', \n",
    "    endpoint_url=MINIO_ENDPOINT, \n",
    "    aws_access_key_id=MINIO_ACCESS_KEY, \n",
    "    aws_secret_access_key=MINIO_SECRET_KEY\n",
    "    )\n",
    "    \n",
    "    incident_report = query_model_for_report(logs)\n",
    "    if not incident_report:\n",
    "        sys.exit(\"Pipeline stopped: Could not generate AI report.\")\n",
    "        \n",
    "    save_report_to_file(incident_report)\n",
    "\n",
    "    with open('incident_report.txt', 'r', encoding='utf-8') as file:\n",
    "        report_file = file.read()\n",
    "\n",
    "    if not upload_to_minio(s3_client, REPORTS_BUCKET, f\"incident_report_{datetime.now().strftime('%Y%m%d_%H%M%S')}.txt\", report_file):\n",
    "        sys.exit(\"Pipeline stopped: Failed to upload report to MinIO.\")\n",
    "\n",
    "if __name__ == \"__main__\":\n",
    "    print(\"==============================================\")\n",
    "    print(\"AIOps PIPELINE STAGE: Generate Incident Report\")\n",
    "    print(\"==============================================\")\n",
    "    main()\n",
    "    print(\"\\n==============================================\")\n",
    "    print(\"                STAGE COMPLETE\")\n",
    "    print(\"==============================================\")"
   ]
  },
  {
   "cell_type": "code",
   "execution_count": null,
   "id": "3308b906-0ed0-4b94-9838-0d3371ee776d",
   "metadata": {},
   "outputs": [],
   "source": []
  }
 ],
 "metadata": {
  "kernelspec": {
   "display_name": "Python 3.11",
   "language": "python",
   "name": "python3"
  },
  "language_info": {
   "codemirror_mode": {
    "name": "ipython",
    "version": 3
   },
   "file_extension": ".py",
   "mimetype": "text/x-python",
   "name": "python",
   "nbconvert_exporter": "python",
   "pygments_lexer": "ipython3",
   "version": "3.11.9"
  }
 },
 "nbformat": 4,
 "nbformat_minor": 5
}

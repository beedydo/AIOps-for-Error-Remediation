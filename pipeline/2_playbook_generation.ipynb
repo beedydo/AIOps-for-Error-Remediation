{
 "cells": [
  {
   "cell_type": "code",
   "execution_count": null,
   "id": "06742d15-d8aa-4575-947c-ff49122c915f",
   "metadata": {},
   "outputs": [],
   "source": [
    "# TODO\n",
    "# Logic for prompting the LLM to generate a playbook to remediate the error"
   ]
  },
  {
   "cell_type": "code",
   "execution_count": null,
   "id": "826f934e-f7a7-4907-ad13-ded59370ed71",
   "metadata": {},
   "outputs": [],
   "source": [
    "!pip install openai"
   ]
  },
  {
   "cell_type": "code",
   "execution_count": 19,
   "id": "38e391fa-4034-4311-814d-a2fb911f2b98",
   "metadata": {},
   "outputs": [],
   "source": [
    "from openai import OpenAI"
   ]
  },
  {
   "cell_type": "code",
   "execution_count": 20,
   "id": "26eaf49e-635d-4e90-8e62-a1f2c38a9362",
   "metadata": {},
   "outputs": [],
   "source": [
    "llm_endpoint=\"https://generativelanguage.googleapis.com/v1beta/openai/\"\n",
    "\n",
    "# Initialise OpenAI Client\n",
    "client = OpenAI(\n",
    "    api_key=\"\",\n",
    "    base_url=llm_endpoint\n",
    ")"
   ]
  },
  {
   "cell_type": "code",
   "execution_count": 24,
   "id": "152b17b3-ef8a-4637-86e4-f4f9baa4b159",
   "metadata": {},
   "outputs": [],
   "source": [
    "# TODO\n",
    "# Logic to fetch error to parse as a prompt to LLM\n",
    "\n",
    "error_event=\"Write me a playbook to restart httpd service\""
   ]
  },
  {
   "cell_type": "code",
   "execution_count": 28,
   "id": "0609eb59-6c67-40a4-9152-43f674460fe1",
   "metadata": {},
   "outputs": [],
   "source": [
    "response = client.chat.completions.create(\n",
    "    model=\"gemini-2.0-flash\",\n",
    "    messages=[\n",
    "        {\"role\": \"system\", \"content\": \"You are an assistant for writing Ansible playbooks. Reply only with the raw YAML content — do not include markdown formatting like ```yaml.\"},\n",
    "        {\n",
    "            \"role\": \"user\",\n",
    "            \"content\": error_event\n",
    "        }\n",
    "    ]\n",
    ")\n",
    "\n",
    "# For Debugging\n",
    "# print(response.choices[0].message.content)"
   ]
  },
  {
   "cell_type": "code",
   "execution_count": 29,
   "id": "aafdc708-fe4f-4709-97f1-53b4998966fb",
   "metadata": {},
   "outputs": [],
   "source": [
    "# Extract the content from the LLM response\n",
    "playbook_content = response.choices[0].message.content\n",
    "\n",
    "# Write it to a YAML file\n",
    "with open(\"remediation.yaml\", \"w\") as f:\n",
    "    f.write(playbook_content)"
   ]
  },
  {
   "cell_type": "code",
   "execution_count": 30,
   "id": "bc3359c2-662b-4141-9745-9c93e249e90d",
   "metadata": {},
   "outputs": [],
   "source": [
    "# Remove the markdown syntax\n",
    "# Read the content from the file\n",
    "with open(\"remediation.yaml\", \"r\") as f:\n",
    "    content = f.read().strip()\n",
    "\n",
    "# Remove markdown code block if present\n",
    "if content.startswith(\"```yaml\"):\n",
    "    content = content.replace(\"```yaml\", \"\", 1).strip()\n",
    "if content.endswith(\"```\"):\n",
    "    content = content.rsplit(\"```\", 1)[0].strip()\n",
    "\n",
    "# Write the cleaned content back to the same file\n",
    "with open(\"remediation.yaml\", \"w\") as f:\n",
    "    f.write(content)"
   ]
  },
  {
   "cell_type": "code",
   "execution_count": null,
   "id": "5f54ea61-dc5c-44ab-b629-e34faadd76d8",
   "metadata": {},
   "outputs": [],
   "source": []
  }
 ],
 "metadata": {
  "kernelspec": {
   "display_name": "Python 3.11",
   "language": "python",
   "name": "python3"
  },
  "language_info": {
   "codemirror_mode": {
    "name": "ipython",
    "version": 3
   },
   "file_extension": ".py",
   "mimetype": "text/x-python",
   "name": "python",
   "nbconvert_exporter": "python",
   "pygments_lexer": "ipython3",
   "version": "3.11.9"
  }
 },
 "nbformat": 4,
 "nbformat_minor": 5
}

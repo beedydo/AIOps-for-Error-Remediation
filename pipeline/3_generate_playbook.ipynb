{
 "cells": [
  {
   "cell_type": "code",
   "execution_count": 166,
   "id": "589f7e09-d1c3-4b57-801c-62e041a0a2df",
   "metadata": {},
   "outputs": [],
   "source": [
    "import requests\n",
    "import json\n",
    "import boto3\n",
    "from botocore.exceptions import NoCredentialsError\n",
    "from datetime import datetime\n",
    "import os\n",
    "import sys\n",
    "import re\n",
    "import yaml"
   ]
  },
  {
   "cell_type": "code",
   "execution_count": 167,
   "id": "b4096f51-91e7-46dd-8f43-2672bc90e27c",
   "metadata": {},
   "outputs": [],
   "source": [
    "# MinIO Storage Settings\n",
    "MINIO_ENDPOINT = os.getenv(\"AWS_S3_ENDPOINT\")\n",
    "MINIO_ACCESS_KEY = os.getenv(\"AWS_ACCESS_KEY_ID\")\n",
    "MINIO_SECRET_KEY = os.getenv(\"AWS_SECRET_ACCESS_KEY\")\n",
    "PLAYBOOKS_BUCKET = \"playbook\"\n",
    "LOG_FILE = \"service_error_down.txt\" # This variable will be used throughout the script\n",
    "\n",
    "# LLM Info\n",
    "INFERENCE_ENDPOINT = \"https://granite-aiops.apps.cluster-hdmxf.hdmxf.sandbox689.opentlc.com\"\n",
    "MODEL_API_URL = f\"{INFERENCE_ENDPOINT}/v1/completions\"\n",
    "MODEL_NAME = \"granite\""
   ]
  },
  {
   "cell_type": "code",
   "execution_count": 168,
   "id": "c06fe986-580f-47ee-830f-ad4cf4c832bf",
   "metadata": {},
   "outputs": [],
   "source": [
    "# Helper Functions\n",
    "\n",
    "def extract_and_save_keywords(report_filename=\"incident_report.txt\", output_filename=\"extracted_keywords.json\"):\n",
    "    \"\"\"Reads the full report, extracts keywords, and saves them to a new file.\"\"\"\n",
    "    print(f\"\\n--> Step 1: Extracting and saving keywords...\")\n",
    "    details = {}\n",
    "\n",
    "    with open(report_filename, 'r', encoding='utf-8') as f:\n",
    "        report_text = f.read()\n",
    "    # Define regex patterns for host, service, and optionally a port\n",
    "    host_pattern = re.search(r\"AFFECTED HOST:\\s*(.*)\", report_text, re.IGNORECASE)\n",
    "    service_pattern = re.search(r\"AFFECTED SERVICE:\\s*(.*)\", report_text, re.IGNORECASE)\n",
    "    port_pattern = re.search(r\"port (\\d+)\", report_text, re.IGNORECASE)\n",
    "\n",
    "    if host_pattern:\n",
    "        details[\"host\"] = host_pattern.group(1).strip().strip('*').strip()\n",
    "    if service_pattern:\n",
    "        raw_service = service_pattern.group(1).strip().strip('*').strip()\n",
    "        details[\"service\"] = raw_service.replace('.service', '') if raw_service.endswith('.service') else raw_service\n",
    "        \n",
    "    # Set a default port and override if found in the text\n",
    "    details[\"port\"] = 80\n",
    "    if port_pattern:\n",
    "        details[\"port\"] = int(port_pattern.group(1))\n",
    "        \n",
    "    if \"host\" in details and \"service\" in details:\n",
    "        print(f\"    ✅ Extracted Host: '{details['host']}', Service: '{details['service']}', Port: {details['port']}\")\n",
    "        with open(output_filename, 'w') as out_f:\n",
    "            json.dump(details, out_f, indent=4)\n",
    "        print(f\"    ✅ Successfully saved keywords to '{output_filename}'.\")\n",
    "        return details\n",
    "        \n",
    "    print(\"    ❌ Failed to extract keywords.\")\n",
    "    return None\n",
    "\n",
    "def upload_to_minio(s3_client, bucket, object_name, content):\n",
    "    \"\"\"Uploads content to a specified MinIO bucket.\"\"\"\n",
    "    print(f\"--> Uploading '{object_name}' to bucket '{bucket}'...\")\n",
    "    try:\n",
    "        s3_client.put_object(Body=content.encode('utf-8'), Bucket=bucket, Key=object_name)\n",
    "        print(f\"    ✅ Successfully uploaded '{object_name}'.\")\n",
    "        return True\n",
    "    except Exception as e:\n",
    "        print(f\"    ❌ Error uploading to MinIO: {e}\")\n",
    "        return False\n"
   ]
  },
  {
   "cell_type": "code",
   "execution_count": 157,
   "id": "d45c92d3-c709-4c3c-891b-38315f2e19d4",
   "metadata": {},
   "outputs": [
    {
     "name": "stdout",
     "output_type": "stream",
     "text": [
      "\n",
      "--> Step 1: Extracting and saving keywords...\n",
      "    ✅ Extracted Host: 'aiops', Service: 'httpd', Port: 80\n",
      "    ✅ Successfully saved keywords to 'extracted_keywords.json'.\n",
      "{'host': 'aiops', 'service': 'httpd', 'port': 80}\n"
     ]
    }
   ],
   "source": [
    "# Extract keywords into dictionary from incident report\n",
    "keywords = extract_and_save_keywords()\n",
    "\n",
    "print(keywords)"
   ]
  },
  {
   "cell_type": "code",
   "execution_count": 178,
   "id": "e5873c3a-d200-40fc-a609-4a936c07f105",
   "metadata": {},
   "outputs": [
    {
     "name": "stderr",
     "output_type": "stream",
     "text": [
      "/opt/app-root/lib64/python3.11/site-packages/urllib3/connectionpool.py:1064: InsecureRequestWarning: Unverified HTTPS request is being made to host 'granite-aiops.apps.cluster-hdmxf.hdmxf.sandbox689.opentlc.com'. Adding certificate verification is strongly advised. See: https://urllib3.readthedocs.io/en/1.26.x/advanced-usage.html#ssl-warnings\n",
      "  warnings.warn(\n"
     ]
    },
    {
     "name": "stdout",
     "output_type": "stream",
     "text": [
      "    ✅ AI-generated tasks received.\n",
      "- name: Restore HTTPD\n",
      "  hosts: aiops\n",
      "  become: true\n",
      "  vars:\n",
      "    max_retries: 3\n",
      "    retry_delay: 10\n",
      "    service: httpd\n",
      "    port: 80\n",
      "  tasks:\n",
      "    - name: Start the HTTP server service\n",
      "      ansible.builtin.service:\n",
      "        name: \"{{ service }}\"\n",
      "        state: started\n",
      "        enabled: yes\n",
      "\n",
      "    - name: Check the status of the HTTP server service\n",
      "      ansible.builtin.command: systemctl status \"{{ service }}\"\n",
      "\n",
      "    - name: Verify that the HTTP server is listening on Port 80\n",
      "      ansible.builtin.command: ss -tln | grep \"{{ port }}\"\n",
      "\n",
      "    - name: Assert that the HTTP server service is running\n",
      "      ansible.builtin.assert:\n",
      "        that:\n",
      "          - systemctl status \"{{ service }}\" | grep -q \"active (running)\"\n",
      "        fail_msg: \"HTTP server service is not running\"\n",
      "        success_msg: \"HTTP server service is running\"\n",
      "\n",
      "    - name: Assert that the HTTP server is listening on Port 80\n",
      "      ansible.builtin.command: ss -tln | grep \"{{ port }}\"\n",
      "      register: port_check\n",
      "\n",
      "    - name: Assert that the HTTP server is listening on Port 80 (fail)\n",
      "      ansible.builtin.assert:\n",
      "        that:\n",
      "          - port_check.stdout != \"\"\n",
      "        fail_msg: \"HTTP server is not listening on Port 80\"\n",
      "        success_msg: \"HTTP server is listening on Port 80\"\n",
      "\n"
     ]
    }
   ],
   "source": [
    "# Prompt LLM\n",
    "\n",
    "with open(\"incident_report.txt\", 'r', encoding='utf-8') as f:\n",
    "    report_content = f.read()\n",
    "\n",
    "prompt = f\"\"\"\n",
    "You are an Ansible playbook writing assistant.\n",
    "\n",
    "Generate a **complete Ansible playbook** in valid YAML format.\n",
    "The playbook must include:\n",
    "- A single play with the following header:\n",
    "  - name: Restore {keywords.get('service', 'service').upper()}\n",
    "  - hosts: {keywords.get('host')}\n",
    "  - become: true\n",
    "  - vars:\n",
    "      max_retries: 3\n",
    "      retry_delay: 10\n",
    "      service: {keywords.get('service')}\n",
    "      port: {keywords.get('port')}\n",
    "- A tasks section with appropriate remediation tasks based on the incident report below.\n",
    "\n",
    "Guidelines:\n",
    "- Output only valid YAML, no markdown or extra explanations.\n",
    "- Do not use markdown formatting like ```yaml.\n",
    "- Use appropriate Ansible modules (e.g., ansible.builtin.service, command, shell, assert).\n",
    "- All tasks must be properly indented under the `tasks:` key.\n",
    "\n",
    "**Incident Report:**\n",
    "{report_content}\n",
    "\"\"\"\n",
    "\n",
    "headers = {\"Content-Type\": \"application/json\"}\n",
    "payload = {\"model\": MODEL_NAME, \"prompt\": prompt, \"max_tokens\": 1024}\n",
    "\n",
    "response = requests.post(MODEL_API_URL, headers=headers, json=payload, verify=False)\n",
    "response.raise_for_status()\n",
    "result = response.json()\n",
    "\n",
    "if 'choices' in result and result['choices']:\n",
    "    playbook_yaml = result['choices'][0].get('text', '').strip()  \n",
    "    if \"```\" in playbook_yaml:\n",
    "        playbook_yaml = re.search(r\"```(?:\\w*\\n)?(.*)```\", playbook_yaml, re.DOTALL).group(1)\n",
    "    print(\"    ✅ AI-generated tasks received.\")\n",
    "    print(playbook_yaml)\n"
   ]
  },
  {
   "cell_type": "code",
   "execution_count": 177,
   "id": "71cea3fe-05e6-4c3b-acb3-c2c52c2e6f30",
   "metadata": {},
   "outputs": [
    {
     "name": "stdout",
     "output_type": "stream",
     "text": [
      "--> Uploading 'remediation_playbook_20250617_143733.yaml' to bucket 'playbook'...\n",
      "    ✅ Successfully uploaded 'remediation_playbook_20250617_143733.yaml'.\n"
     ]
    },
    {
     "data": {
      "text/plain": [
       "True"
      ]
     },
     "execution_count": 177,
     "metadata": {},
     "output_type": "execute_result"
    }
   ],
   "source": [
    "# Write playbook response to file \n",
    "output_file = \"playbook.yml\"\n",
    "with open(output_file, \"w\") as f:\n",
    "    f.write(playbook_yaml)\n",
    "\n",
    "\n",
    "# Upload playbook yaml to s3\n",
    "s3_client = boto3.client(\n",
    "    's3', \n",
    "    endpoint_url=MINIO_ENDPOINT, \n",
    "    aws_access_key_id=MINIO_ACCESS_KEY, \n",
    "    aws_secret_access_key=MINIO_SECRET_KEY\n",
    "    )\n",
    "\n",
    "with open(output_file, 'r', encoding='utf-8') as f:\n",
    "    output_file = f.read()\n",
    "\n",
    "upload_to_minio(s3_client, PLAYBOOKS_BUCKET, f\"remediation_playbook_{datetime.now().strftime('%Y%m%d_%H%M%S')}.yaml\", output_file)"
   ]
  },
  {
   "cell_type": "code",
   "execution_count": null,
   "id": "e369a6f7-f76e-4d78-8c36-4d1febff7616",
   "metadata": {},
   "outputs": [],
   "source": []
  }
 ],
 "metadata": {
  "kernelspec": {
   "display_name": "Python 3.11",
   "language": "python",
   "name": "python3"
  },
  "language_info": {
   "codemirror_mode": {
    "name": "ipython",
    "version": 3
   },
   "file_extension": ".py",
   "mimetype": "text/x-python",
   "name": "python",
   "nbconvert_exporter": "python",
   "pygments_lexer": "ipython3",
   "version": "3.11.9"
  }
 },
 "nbformat": 4,
 "nbformat_minor": 5
}

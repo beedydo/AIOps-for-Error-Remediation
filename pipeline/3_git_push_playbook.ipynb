{
 "cells": [
  {
   "cell_type": "code",
   "execution_count": null,
   "id": "ac2727ef-8e7e-4e19-997e-371b4ca5f6b9",
   "metadata": {},
   "outputs": [],
   "source": [
    "# TODO\n",
    "# Logic for pushing the playbook generated to the git repository"
   ]
  },
  {
   "cell_type": "code",
   "execution_count": 1,
   "id": "b128be88-0353-4718-a0d5-70cba7317c3a",
   "metadata": {},
   "outputs": [],
   "source": [
    "import subprocess\n",
    "import shutil\n",
    "import os"
   ]
  },
  {
   "cell_type": "code",
   "execution_count": 10,
   "id": "76d30f50-be0c-4d22-8fb0-ef9e6fbc465b",
   "metadata": {},
   "outputs": [],
   "source": [
    "REPO_PATH = \"/opt/app-root/src/AIOps-for-Error-Remediation/pipeline/remediation-playbooks\"\n",
    "PLAYBOOK_PATH = \"/opt/app-root/src/AIOps-for-Error-Remediation/pipeline/remediation.yaml\"\n",
    "GIT_USERNAME = \"wj-tan\"\n",
    "GIT_EMAIL = \"tan.weijian1996@gmail.com\"\n",
    "COMMIT_MESSAGE = \"Remediation playbook commit\"\n",
    "BRANCH_NAME = \"main\"  # or 'master' depending on your repo"
   ]
  },
  {
   "cell_type": "code",
   "execution_count": 11,
   "id": "cd9e54c2-de3b-4f0a-9b01-f204cd044f5b",
   "metadata": {},
   "outputs": [
    {
     "data": {
      "text/plain": [
       "CompletedProcess(args=['git', 'config', '--global', 'user.email', 'tan.weijian1996@gmail.com'], returncode=0)"
      ]
     },
     "execution_count": 11,
     "metadata": {},
     "output_type": "execute_result"
    }
   ],
   "source": [
    "# Ensure Git user config is set (optional if already globally set)\n",
    "subprocess.run([\"git\", \"config\", \"--global\", \"user.name\", GIT_USERNAME])\n",
    "subprocess.run([\"git\", \"config\", \"--global\", \"user.email\", GIT_EMAIL])"
   ]
  },
  {
   "cell_type": "code",
   "execution_count": 16,
   "id": "169fb56b-2d85-4ed8-bdc3-808a4459e307",
   "metadata": {},
   "outputs": [
    {
     "data": {
      "text/plain": [
       "'/opt/app-root/src/AIOps-for-Error-Remediation/pipeline/remediation-playbooks/remediation.yaml'"
      ]
     },
     "execution_count": 16,
     "metadata": {},
     "output_type": "execute_result"
    }
   ],
   "source": [
    "# Copy remediation.yaml into the repo\n",
    "shutil.copy(PLAYBOOK_PATH, os.path.join(REPO_PATH, \"remediation.yaml\"))"
   ]
  },
  {
   "cell_type": "code",
   "execution_count": 15,
   "id": "14a41a62-9b1c-4011-bd1e-4e60fe71af09",
   "metadata": {},
   "outputs": [
    {
     "name": "stdout",
     "output_type": "stream",
     "text": [
      "[main 3ab2a74] Remediation playbook commit\n",
      " 1 file changed, 8 insertions(+)\n",
      " create mode 100644 pipeline/remediation-playbooks/remediation.yaml\n"
     ]
    },
    {
     "name": "stderr",
     "output_type": "stream",
     "text": [
      "To https://github.com/beedydo/AIOps-for-Error-Remediation.git\n",
      "   e817002..3ab2a74  main -> main\n"
     ]
    },
    {
     "data": {
      "text/plain": [
       "CompletedProcess(args=['git', 'push', 'origin', 'main'], returncode=0)"
      ]
     },
     "execution_count": 15,
     "metadata": {},
     "output_type": "execute_result"
    }
   ],
   "source": [
    "# Run Git commands to pull, add, commit, and push\n",
    "subprocess.run([\"git\", \"pull\", \"origin\", BRANCH_NAME], cwd=REPO_PATH)\n",
    "subprocess.run([\"git\", \"add\", \"remediation.yaml\"], cwd=REPO_PATH)\n",
    "subprocess.run([\"git\", \"commit\", \"-m\", COMMIT_MESSAGE], cwd=REPO_PATH)\n",
    "subprocess.run([\"git\", \"push\", \"origin\", BRANCH_NAME], cwd=REPO_PATH)"
   ]
  },
  {
   "cell_type": "code",
   "execution_count": null,
   "id": "422837dd-de1a-4b8c-af10-e53744e8e08e",
   "metadata": {},
   "outputs": [],
   "source": []
  }
 ],
 "metadata": {
  "kernelspec": {
   "display_name": "Python 3.11",
   "language": "python",
   "name": "python3"
  },
  "language_info": {
   "codemirror_mode": {
    "name": "ipython",
    "version": 3
   },
   "file_extension": ".py",
   "mimetype": "text/x-python",
   "name": "python",
   "nbconvert_exporter": "python",
   "pygments_lexer": "ipython3",
   "version": "3.11.9"
  }
 },
 "nbformat": 4,
 "nbformat_minor": 5
}

{
 "cells": [
  {
   "cell_type": "code",
   "execution_count": null,
   "id": "bdd0ea18-4f90-4da8-bfc1-41145670b897",
   "metadata": {},
   "outputs": [],
   "source": [
    "# TODO\n",
    "# Logic to build job template in AAP"
   ]
  },
  {
   "cell_type": "code",
   "execution_count": 28,
   "id": "bd373df9-41e2-4f08-ad69-9241cac97394",
   "metadata": {},
   "outputs": [],
   "source": [
    "import requests\n",
    "import json"
   ]
  },
  {
   "cell_type": "code",
   "execution_count": 29,
   "id": "b3e75d9a-a049-48a4-928a-bea30e61f957",
   "metadata": {},
   "outputs": [],
   "source": [
    "AAP_URL = \"https://example-aap-aap.apps.cluster-hdmxf.hdmxf.sandbox689.opentlc.com\"\n",
    "USERNAME = \"admin\"\n",
    "PASSWORD = \"rsmlesWcxes8ogjB7cH9b3OfD3UL5dbi\"\n",
    "\n",
    "TEMPLATE_NAME = \"Remediation Job Template\"\n",
    "PROJECT_ID = 10              # ID of the project in AAP\n",
    "INVENTORY_ID = 2            # ID of the inventory in AAP\n",
    "PLAYBOOK = \"remediation.yaml\"      # Playbook file in your project\n",
    "CREDENTIAL_ID = 3           # Credential ID for SSH/machine or vault"
   ]
  },
  {
   "cell_type": "code",
   "execution_count": 30,
   "id": "1067f18f-9003-4b87-946d-38d914e69a18",
   "metadata": {},
   "outputs": [],
   "source": [
    "# Disable SSL warnings for self-signed certs (not for production)\n",
    "requests.packages.urllib3.disable_warnings()"
   ]
  },
  {
   "cell_type": "code",
   "execution_count": 31,
   "id": "e798fea9-8571-4c88-ab43-2fb59a47dc45",
   "metadata": {},
   "outputs": [],
   "source": [
    "# --- Authenticate ---\n",
    "session = requests.Session()\n",
    "session.auth = (USERNAME, PASSWORD)\n",
    "session.verify = False  # Change to True if using valid SSL certs\n",
    "session.headers.update({'Content-Type': 'application/json'})"
   ]
  },
  {
   "cell_type": "code",
   "execution_count": 37,
   "id": "f89c37cc-e6d5-40cd-8909-4d35b922749f",
   "metadata": {},
   "outputs": [
    {
     "name": "stdout",
     "output_type": "stream",
     "text": [
      "✅ Job template 'Remediation Job Template' created successfully.\n"
     ]
    }
   ],
   "source": [
    "# --- Create Job Template ---\n",
    "url = f\"{AAP_URL}/api/controller/v2/job_templates/\"\n",
    "\n",
    "payload = {\n",
    "    \"name\": TEMPLATE_NAME,\n",
    "    \"job_type\": \"run\",\n",
    "    \"inventory\": INVENTORY_ID,\n",
    "    \"project\": PROJECT_ID,\n",
    "    \"playbook\": PLAYBOOK,\n",
    "    \"execution_environment\": 2,\n",
    "    \"ask_verbosity_on_launch\": False,\n",
    "    \"ask_variables_on_launch\": True,\n",
    "    \"become_enabled\": True\n",
    "}\n",
    "\n",
    "response = session.post(url, json=payload)\n",
    "response_data = response.json()\n",
    "job_template_id = response_data.get(\"id\")\n",
    "\n",
    "if response.status_code == 201:\n",
    "    print(f\"✅ Job template '{TEMPLATE_NAME}' created successfully.\")\n",
    "    #print(response.text())\n",
    "else:\n",
    "    print(f\"❌ Failed to create job template: {response.status_code}\")\n",
    "    #print(response.text())\n",
    "    #print(json.loads(response.text))"
   ]
  },
  {
   "cell_type": "code",
   "execution_count": 38,
   "id": "c0d93764-0cb6-4745-8745-2b21bc3c3584",
   "metadata": {},
   "outputs": [
    {
     "name": "stdout",
     "output_type": "stream",
     "text": [
      "204\n"
     ]
    }
   ],
   "source": [
    "# Add credential to job template\n",
    "\n",
    "url = f\"{AAP_URL}/api/controller/v2/job_templates/{job_template_id}/credentials/\"\n",
    "payload = {\n",
    "    \"id\": CREDENTIAL_ID\n",
    "}\n",
    "\n",
    "response = session.post(url, json=payload)\n",
    "print(response.status_code)\n",
    "\n",
    "if response.status_code == 204:\n",
    "    print(f\"✅ Credential added to Job template successfully.\")\n",
    "else:\n",
    "    print(f\"❌ Failed to add credential to job template: {response.status_code}\")"
   ]
  },
  {
   "cell_type": "code",
   "execution_count": null,
   "id": "2e5c291d-4047-4a53-86e8-c891436f15bd",
   "metadata": {},
   "outputs": [],
   "source": []
  }
 ],
 "metadata": {
  "kernelspec": {
   "display_name": "Python 3.11",
   "language": "python",
   "name": "python3"
  },
  "language_info": {
   "codemirror_mode": {
    "name": "ipython",
    "version": 3
   },
   "file_extension": ".py",
   "mimetype": "text/x-python",
   "name": "python",
   "nbconvert_exporter": "python",
   "pygments_lexer": "ipython3",
   "version": "3.11.9"
  }
 },
 "nbformat": 4,
 "nbformat_minor": 5
}

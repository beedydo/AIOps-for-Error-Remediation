{
 "cells": [
  {
   "cell_type": "code",
   "execution_count": null,
   "id": "bdd0ea18-4f90-4da8-bfc1-41145670b897",
   "metadata": {},
   "outputs": [],
   "source": [
    "# TODO\n",
    "# Logic to build job template in AAP"
   ]
  },
  {
   "cell_type": "code",
   "execution_count": null,
   "id": "bd373df9-41e2-4f08-ad69-9241cac97394",
   "metadata": {},
   "outputs": [],
   "source": [
    "import requests"
   ]
  },
  {
   "cell_type": "code",
   "execution_count": null,
   "id": "b3e75d9a-a049-48a4-928a-bea30e61f957",
   "metadata": {},
   "outputs": [],
   "source": [
    "AAP_URL = \"https://your-aap.example.com\"\n",
    "USERNAME = \"admin\"\n",
    "PASSWORD = \"your_password\"\n",
    "\n",
    "TEMPLATE_NAME = \"My Example Job Template\"\n",
    "PROJECT_ID = 1              # ID of the project in AAP\n",
    "INVENTORY_ID = 1            # ID of the inventory in AAP\n",
    "PLAYBOOK = \"remediation.yaml\"      # Playbook file in your project\n",
    "CREDENTIAL_ID = 1           # Credential ID for SSH/machine or vault"
   ]
  },
  {
   "cell_type": "code",
   "execution_count": null,
   "id": "1067f18f-9003-4b87-946d-38d914e69a18",
   "metadata": {},
   "outputs": [],
   "source": [
    "# Disable SSL warnings for self-signed certs (not for production)\n",
    "requests.packages.urllib3.disable_warnings()"
   ]
  },
  {
   "cell_type": "code",
   "execution_count": null,
   "id": "e798fea9-8571-4c88-ab43-2fb59a47dc45",
   "metadata": {},
   "outputs": [],
   "source": [
    "# --- Authenticate ---\n",
    "session = requests.Session()\n",
    "session.auth = (USERNAME, PASSWORD)\n",
    "session.verify = False  # Change to True if using valid SSL certs\n",
    "session.headers.update({'Content-Type': 'application/json'})"
   ]
  },
  {
   "cell_type": "code",
   "execution_count": null,
   "id": "f89c37cc-e6d5-40cd-8909-4d35b922749f",
   "metadata": {},
   "outputs": [],
   "source": [
    "# --- Create Job Template ---\n",
    "url = f\"{AAP_URL}/api/v2/job_templates/\"\n",
    "\n",
    "payload = {\n",
    "    \"name\": TEMPLATE_NAME,\n",
    "    \"job_type\": \"run\",\n",
    "    \"inventory\": INVENTORY_ID,\n",
    "    \"project\": PROJECT_ID,\n",
    "    \"playbook\": PLAYBOOK,\n",
    "    \"credentials\": [CREDENTIAL_ID],\n",
    "    \"ask_verbosity_on_launch\": False,\n",
    "    \"ask_variables_on_launch\": True,\n",
    "    \"become_enabled\": True\n",
    "}\n",
    "\n",
    "response = session.post(url, json=payload)"
   ]
  },
  {
   "cell_type": "code",
   "execution_count": null,
   "id": "f7f8c960-f71e-4920-96c3-832921dfc430",
   "metadata": {},
   "outputs": [],
   "source": [
    "if response.status_code == 201:\n",
    "    print(f\"✅ Job template '{TEMPLATE_NAME}' created successfully.\")\n",
    "else:\n",
    "    print(f\"❌ Failed to create job template: {response.status_code}\")\n",
    "    print(response.json())"
   ]
  }
 ],
 "metadata": {
  "kernelspec": {
   "display_name": "Python 3.11",
   "language": "python",
   "name": "python3"
  },
  "language_info": {
   "codemirror_mode": {
    "name": "ipython",
    "version": 3
   },
   "file_extension": ".py",
   "mimetype": "text/x-python",
   "name": "python",
   "nbconvert_exporter": "python",
   "pygments_lexer": "ipython3",
   "version": "3.11.9"
  }
 },
 "nbformat": 4,
 "nbformat_minor": 5
}

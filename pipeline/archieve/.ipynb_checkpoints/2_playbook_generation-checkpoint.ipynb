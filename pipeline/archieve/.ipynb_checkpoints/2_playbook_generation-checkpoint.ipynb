{
 "cells": [
  {
   "cell_type": "code",
   "execution_count": null,
   "id": "06742d15-d8aa-4575-947c-ff49122c915f",
   "metadata": {},
   "outputs": [],
   "source": [
    "# TODO\n",
    "# Logic for prompting the LLM to generate a playbook to remediate the error"
   ]
  },
  {
   "cell_type": "code",
   "execution_count": 7,
   "id": "826f934e-f7a7-4907-ad13-ded59370ed71",
   "metadata": {},
   "outputs": [
    {
     "name": "stdout",
     "output_type": "stream",
     "text": [
      "Collecting openai\n",
      "  Downloading openai-1.84.0-py3-none-any.whl.metadata (25 kB)\n",
      "Requirement already satisfied: anyio<5,>=3.5.0 in /opt/app-root/lib64/python3.11/site-packages (from openai) (4.9.0)\n",
      "Collecting distro<2,>=1.7.0 (from openai)\n",
      "  Downloading distro-1.9.0-py3-none-any.whl.metadata (6.8 kB)\n",
      "Requirement already satisfied: httpx<1,>=0.23.0 in /opt/app-root/lib64/python3.11/site-packages (from openai) (0.28.1)\n",
      "Collecting jiter<1,>=0.4.0 (from openai)\n",
      "  Downloading jiter-0.10.0-cp311-cp311-manylinux_2_17_x86_64.manylinux2014_x86_64.whl.metadata (5.2 kB)\n",
      "Requirement already satisfied: pydantic<3,>=1.9.0 in /opt/app-root/lib64/python3.11/site-packages (from openai) (1.10.21)\n",
      "Requirement already satisfied: sniffio in /opt/app-root/lib64/python3.11/site-packages (from openai) (1.3.1)\n",
      "Requirement already satisfied: tqdm>4 in /opt/app-root/lib64/python3.11/site-packages (from openai) (4.67.1)\n",
      "Requirement already satisfied: typing-extensions<5,>=4.11 in /opt/app-root/lib64/python3.11/site-packages (from openai) (4.12.2)\n",
      "Requirement already satisfied: idna>=2.8 in /opt/app-root/lib64/python3.11/site-packages (from anyio<5,>=3.5.0->openai) (3.10)\n",
      "Requirement already satisfied: certifi in /opt/app-root/lib64/python3.11/site-packages (from httpx<1,>=0.23.0->openai) (2025.1.31)\n",
      "Requirement already satisfied: httpcore==1.* in /opt/app-root/lib64/python3.11/site-packages (from httpx<1,>=0.23.0->openai) (1.0.7)\n",
      "Requirement already satisfied: h11<0.15,>=0.13 in /opt/app-root/lib64/python3.11/site-packages (from httpcore==1.*->httpx<1,>=0.23.0->openai) (0.14.0)\n",
      "Downloading openai-1.84.0-py3-none-any.whl (725 kB)\n",
      "\u001b[2K   \u001b[90m━━━━━━━━━━━━━━━━━━━━━━━━━━━━━━━━━━━━━━━\u001b[0m \u001b[32m725.5/725.5 kB\u001b[0m \u001b[31m166.9 MB/s\u001b[0m eta \u001b[36m0:00:00\u001b[0m\n",
      "\u001b[?25hDownloading distro-1.9.0-py3-none-any.whl (20 kB)\n",
      "Downloading jiter-0.10.0-cp311-cp311-manylinux_2_17_x86_64.manylinux2014_x86_64.whl (352 kB)\n",
      "Installing collected packages: jiter, distro, openai\n",
      "Successfully installed distro-1.9.0 jiter-0.10.0 openai-1.84.0\n",
      "\n",
      "\u001b[1m[\u001b[0m\u001b[34;49mnotice\u001b[0m\u001b[1;39;49m]\u001b[0m\u001b[39;49m A new release of pip is available: \u001b[0m\u001b[31;49m24.2\u001b[0m\u001b[39;49m -> \u001b[0m\u001b[32;49m25.1.1\u001b[0m\n",
      "\u001b[1m[\u001b[0m\u001b[34;49mnotice\u001b[0m\u001b[1;39;49m]\u001b[0m\u001b[39;49m To update, run: \u001b[0m\u001b[32;49mpip install --upgrade pip\u001b[0m\n"
     ]
    }
   ],
   "source": [
    "!pip install openai"
   ]
  },
  {
   "cell_type": "code",
   "execution_count": 17,
   "id": "38e391fa-4034-4311-814d-a2fb911f2b98",
   "metadata": {},
   "outputs": [],
   "source": [
    "import os\n",
    "from openai import OpenAI"
   ]
  },
  {
   "cell_type": "code",
   "execution_count": 18,
   "id": "08e28b39-3f21-4401-acaa-afdf5b32af74",
   "metadata": {},
   "outputs": [],
   "source": [
    "api_key = os.getenv(\"gemini_api_key\")"
   ]
  },
  {
   "cell_type": "code",
   "execution_count": 19,
   "id": "26eaf49e-635d-4e90-8e62-a1f2c38a9362",
   "metadata": {},
   "outputs": [],
   "source": [
    "llm_endpoint=\"https://generativelanguage.googleapis.com/v1beta/openai/\"\n",
    "\n",
    "# Initialise OpenAI Client\n",
    "client = OpenAI(\n",
    "    api_key=api_key,\n",
    "    base_url=llm_endpoint\n",
    ")"
   ]
  },
  {
   "cell_type": "code",
   "execution_count": 20,
   "id": "152b17b3-ef8a-4637-86e4-f4f9baa4b159",
   "metadata": {},
   "outputs": [],
   "source": [
    "# TODO\n",
    "# Logic to fetch error to parse as a prompt to LLM\n",
    "\n",
    "# Read the content of the file into a variable\n",
    "with open('error.txt', 'r') as file:\n",
    "    error_event = file.read()\n",
    "\n",
    "print(error_event)\n"
   ]
  },
  {
   "cell_type": "code",
   "execution_count": 21,
   "id": "0609eb59-6c67-40a4-9152-43f674460fe1",
   "metadata": {},
   "outputs": [],
   "source": [
    "user_prompt = f\"\"\"\n",
    "The following error was retrieved from a Linux virtual machine:\n",
    "\n",
    "{error_event}\n",
    "\n",
    "Based on the error above, generate an Ansible playbook that remediates the issue. \n",
    "Only output the raw YAML of the playbook, without any markdown formatting, comments, or explanations.\n",
    "\"\"\"\n",
    "\n",
    "response = client.chat.completions.create(\n",
    "    model=\"gemini-2.0-flash\",\n",
    "    messages=[\n",
    "        {\"role\": \"system\", \"content\": \"You are an assistant for writing Ansible playbooks. Reply only with the raw YAML content — do not include markdown formatting like ```yaml.\"},\n",
    "        {\n",
    "            \"role\": \"user\",\n",
    "            \"content\": user_prompt\n",
    "        }\n",
    "    ]\n",
    ")\n",
    "\n",
    "# For Debugging\n",
    "# print(response.choices[0].message.content)"
   ]
  },
  {
   "cell_type": "code",
   "execution_count": 22,
   "id": "aafdc708-fe4f-4709-97f1-53b4998966fb",
   "metadata": {},
   "outputs": [],
   "source": [
    "# Extract the content from the LLM response\n",
    "playbook_content = response.choices[0].message.content\n",
    "\n",
    "# Write it to a YAML file\n",
    "with open(\"remediation.yaml\", \"w\") as f:\n",
    "    f.write(playbook_content)"
   ]
  },
  {
   "cell_type": "code",
   "execution_count": 23,
   "id": "bc3359c2-662b-4141-9745-9c93e249e90d",
   "metadata": {},
   "outputs": [],
   "source": [
    "# Remove the markdown syntax\n",
    "# Read the content from the file\n",
    "with open(\"remediation.yaml\", \"r\") as f:\n",
    "    content = f.read().strip()\n",
    "\n",
    "# Remove markdown code block if present\n",
    "if content.startswith(\"```yaml\"):\n",
    "    content = content.replace(\"```yaml\", \"\", 1).strip()\n",
    "if content.endswith(\"```\"):\n",
    "    content = content.rsplit(\"```\", 1)[0].strip()\n",
    "\n",
    "# Write the cleaned content back to the same file\n",
    "with open(\"remediation.yaml\", \"w\") as f:\n",
    "    f.write(content)"
   ]
  },
  {
   "cell_type": "code",
   "execution_count": 2,
   "id": "5f54ea61-dc5c-44ab-b629-e34faadd76d8",
   "metadata": {},
   "outputs": [
    {
     "name": "stdout",
     "output_type": "stream",
     "text": [
      "---\n",
      "- hosts: all\n",
      "  become: true\n",
      "  tasks:\n",
      "    - name: Install httpd\n",
      "      yum:\n",
      "        name: httpd\n",
      "        state: present\n",
      "      notify:\n",
      "        - Restart httpd\n",
      "\n",
      "    - name: Create /etc/sysconfig/httpd if it does not exist\n",
      "      file:\n",
      "        path: /etc/sysconfig/httpd\n",
      "        state: touch\n",
      "        mode: '0644'\n",
      "      when: \"'No such file or directory' in error_message\" # Replace error_message with the actual variable containing the error\n",
      "\n",
      "    - name: Start httpd service\n",
      "      systemd:\n",
      "        name: httpd\n",
      "        state: started\n",
      "        enabled: true\n",
      "      ignore_errors: true\n",
      "\n",
      "    - name: Ensure firewalld is running\n",
      "      service:\n",
      "        name: firewalld\n",
      "        state: started\n",
      "        enabled: true\n",
      "\n",
      "    - name: Open port 80 in firewall\n",
      "      firewall:\n",
      "        port: 80/tcp\n",
      "        permanent: true\n",
      "        state: enabled\n",
      "      notify:\n",
      "        - Reload firewalld\n",
      "\n",
      "  handlers:\n",
      "    - name: Restart httpd\n",
      "      systemd:\n",
      "        name: httpd\n",
      "        state: restarted\n",
      "\n",
      "    - name: Reload firewalld\n",
      "      service:\n",
      "        name: firewalld\n",
      "        state: reloaded\n"
     ]
    }
   ],
   "source": [
    "# Print the playbook content\n",
    "with open(\"remediation.yaml\", \"r\") as f:\n",
    "    content = f.read().strip()\n",
    "print(content)"
   ]
  },
  {
   "cell_type": "code",
   "execution_count": null,
   "id": "9f0e1928-e7ad-480f-be11-dca98c3f7eaa",
   "metadata": {},
   "outputs": [],
   "source": []
  }
 ],
 "metadata": {
  "kernelspec": {
   "display_name": "Python 3.11",
   "language": "python",
   "name": "python3"
  },
  "language_info": {
   "codemirror_mode": {
    "name": "ipython",
    "version": 3
   },
   "file_extension": ".py",
   "mimetype": "text/x-python",
   "name": "python",
   "nbconvert_exporter": "python",
   "pygments_lexer": "ipython3",
   "version": "3.11.9"
  }
 },
 "nbformat": 4,
 "nbformat_minor": 5
}

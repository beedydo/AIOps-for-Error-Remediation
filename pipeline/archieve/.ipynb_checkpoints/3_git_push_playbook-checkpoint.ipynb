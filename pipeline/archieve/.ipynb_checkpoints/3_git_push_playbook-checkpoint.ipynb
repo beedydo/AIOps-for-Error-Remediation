{
 "cells": [
  {
   "cell_type": "code",
   "execution_count": null,
   "id": "ac2727ef-8e7e-4e19-997e-371b4ca5f6b9",
   "metadata": {},
   "outputs": [],
   "source": [
    "# TODO\n",
    "# Logic for pushing the playbook generated to the git repository"
   ]
  }
 ],
 "metadata": {
  "kernelspec": {
   "display_name": "Python 3.11",
   "language": "python",
   "name": "python3"
  },
  "language_info": {
   "codemirror_mode": {
    "name": "ipython",
    "version": 3
   },
   "file_extension": ".py",
   "mimetype": "text/x-python",
   "name": "python",
   "nbconvert_exporter": "python",
   "pygments_lexer": "ipython3",
   "version": "3.11.9"
  }
 },
 "nbformat": 4,
 "nbformat_minor": 5
}

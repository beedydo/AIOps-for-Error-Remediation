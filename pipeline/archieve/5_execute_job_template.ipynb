{
 "cells": [
  {
   "cell_type": "code",
   "execution_count": null,
   "id": "ca05d5ac-a26a-4184-999e-b0384a20a637",
   "metadata": {},
   "outputs": [],
   "source": [
    "# TODO\n",
    "# Logic to execute job template in AAP"
   ]
  },
  {
   "cell_type": "code",
   "execution_count": 1,
   "id": "8706e58f-e319-4f24-a1be-06d88bfd2ea1",
   "metadata": {},
   "outputs": [],
   "source": [
    "import requests\n",
    "import os\n",
    "import json"
   ]
  },
  {
   "cell_type": "code",
   "execution_count": 2,
   "id": "bab0eb66-08a3-408e-8222-73f25d315dcd",
   "metadata": {},
   "outputs": [],
   "source": [
    "aap_credential = os.getenv(\"aap_credential\")\n",
    "AAP_URL = \"https://example-aap-aap.apps.cluster-hdmxf.hdmxf.sandbox689.opentlc.com\"\n",
    "USERNAME = \"admin\"\n",
    "PASSWORD = aap_credential\n",
    "\n",
    "\n",
    "with open(\"job_template_id.json\") as f:\n",
    "    JOB_TEMPLATE_ID = json.load(f)[\"job_template_id\"]"
   ]
  },
  {
   "cell_type": "code",
   "execution_count": 3,
   "id": "c78f46e9-15ea-49d3-b476-95c41787f6dd",
   "metadata": {},
   "outputs": [],
   "source": [
    "# Disable SSL warnings (for self-signed certs)\n",
    "requests.packages.urllib3.disable_warnings()"
   ]
  },
  {
   "cell_type": "code",
   "execution_count": 4,
   "id": "1da5313c-7fa3-47aa-89d2-d8d2f1d72fc9",
   "metadata": {},
   "outputs": [],
   "source": [
    "# --- Authenticated Session ---\n",
    "session = requests.Session()\n",
    "session.auth = (USERNAME, PASSWORD)\n",
    "session.verify = False\n",
    "session.headers.update({'Content-Type': 'application/json'})"
   ]
  },
  {
   "cell_type": "code",
   "execution_count": 5,
   "id": "46a9c3a8-d50f-45c7-9207-52b0dd1e90f2",
   "metadata": {},
   "outputs": [
    {
     "name": "stdout",
     "output_type": "stream",
     "text": [
      "🚀 Job launched successfully. Job ID: 39\n"
     ]
    }
   ],
   "source": [
    "# --- Launch Job Template ---\n",
    "url = f\"{AAP_URL}/api/controller/v2/job_templates/{JOB_TEMPLATE_ID}/launch/\"\n",
    "payload = { \"extra_vars\": { \"survey_var\": 7 } }\n",
    "response = session.post(url, json=payload)\n",
    "\n",
    "if response.status_code == 201:\n",
    "    job_id = response.json()[\"id\"]\n",
    "    print(f\"🚀 Job launched successfully. Job ID: {job_id}\")\n",
    "else:\n",
    "    print(f\"❌ Failed to launch job template: {response.status_code}\")\n",
    "    print(response.json())"
   ]
  },
  {
   "cell_type": "code",
   "execution_count": null,
   "id": "4e55b899-6b58-49d6-a2ad-72669da40403",
   "metadata": {},
   "outputs": [],
   "source": []
  }
 ],
 "metadata": {
  "kernelspec": {
   "display_name": "Python 3.11",
   "language": "python",
   "name": "python3"
  },
  "language_info": {
   "codemirror_mode": {
    "name": "ipython",
    "version": 3
   },
   "file_extension": ".py",
   "mimetype": "text/x-python",
   "name": "python",
   "nbconvert_exporter": "python",
   "pygments_lexer": "ipython3",
   "version": "3.11.9"
  }
 },
 "nbformat": 4,
 "nbformat_minor": 5
}

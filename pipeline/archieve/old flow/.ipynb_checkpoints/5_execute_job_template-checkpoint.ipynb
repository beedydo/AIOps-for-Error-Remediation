{
 "cells": [
  {
   "cell_type": "code",
   "execution_count": null,
   "id": "ca05d5ac-a26a-4184-999e-b0384a20a637",
   "metadata": {},
   "outputs": [],
   "source": [
    "# TODO\n",
    "# Logic to execute job template in AAP"
   ]
  }
 ],
 "metadata": {
  "kernelspec": {
   "display_name": "Python 3.11",
   "language": "python",
   "name": "python3"
  },
  "language_info": {
   "codemirror_mode": {
    "name": "ipython",
    "version": 3
   },
   "file_extension": ".py",
   "mimetype": "text/x-python",
   "name": "python",
   "nbconvert_exporter": "python",
   "pygments_lexer": "ipython3",
   "version": "3.11.9"
  }
 },
 "nbformat": 4,
 "nbformat_minor": 5
}

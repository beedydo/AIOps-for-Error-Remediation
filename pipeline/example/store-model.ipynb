{
 "cells": [
  {
   "cell_type": "code",
   "execution_count": 4,
   "id": "5c54719b-955d-4ad4-8374-089d2f8b0043",
   "metadata": {},
   "outputs": [],
   "source": [
    "import os\n",
    "import io\n",
    "import boto3"
   ]
  },
  {
   "cell_type": "code",
   "execution_count": 5,
   "id": "3592a4da-9b77-4b5f-83d4-733336200c5e",
   "metadata": {},
   "outputs": [],
   "source": [
    "# Retrieve the environment variables injected by the data connection.\n",
    "key_id = os.getenv(\"AWS_ACCESS_KEY_ID\")\n",
    "secret_key = os.getenv(\"AWS_SECRET_ACCESS_KEY\")\n",
    "region = os.getenv(\"AWS_DEFAULT_REGION\")\n",
    "endpoint = os.getenv(\"AWS_S3_ENDPOINT\")\n",
    "bucket_name = os.getenv(\"AWS_S3_BUCKET\")\n"
   ]
  },
  {
   "cell_type": "code",
   "execution_count": 7,
   "id": "28793ffc-cc24-4142-a01c-004fe55bab36",
   "metadata": {},
   "outputs": [
    {
     "data": {
      "text/plain": [
       "[{'Name': 'models',\n",
       "  'CreationDate': datetime.datetime(2025, 6, 2, 8, 46, 27, 983000, tzinfo=tzlocal())},\n",
       " {'Name': 'pipeline',\n",
       "  'CreationDate': datetime.datetime(2025, 6, 2, 8, 46, 35, 608000, tzinfo=tzlocal())}]"
      ]
     },
     "execution_count": 7,
     "metadata": {},
     "output_type": "execute_result"
    }
   ],
   "source": [
    "# Create connection to s3 bucket\n",
    "\n",
    "s3 = boto3.client(\n",
    "    \"s3\",\n",
    "    region,\n",
    "    aws_access_key_id=key_id,\n",
    "    aws_secret_access_key=secret_key,\n",
    "    endpoint_url=endpoint,\n",
    "    use_ssl=False\n",
    ")\n",
    "\n",
    "# Test connection by retrieving a list of buckets\n",
    "response = s3.list_buckets()\n",
    "response[\"Buckets\"]"
   ]
  },
  {
   "cell_type": "code",
   "execution_count": 1,
   "id": "f9dfde95-dcb8-435e-835d-0664e4f8a801",
   "metadata": {
    "tags": []
   },
   "outputs": [],
   "source": [
    "# Upload file to s3\n",
    "\n",
    "s3_client.upload_file(\n",
    "    Filename='models/battle.pickle',\n",
    "    Bucket='intel-landscape',\n",
    "    Key='data-foundary/battle.pickle'\n",
    ")"
   ]
  },
  {
   "cell_type": "code",
   "execution_count": null,
   "id": "4f24df65-65b0-4ab8-9103-a57cbdd3121d",
   "metadata": {},
   "outputs": [],
   "source": []
  }
 ],
 "metadata": {
  "kernelspec": {
   "display_name": "Python 3.11",
   "language": "python",
   "name": "python3"
  },
  "language_info": {
   "codemirror_mode": {
    "name": "ipython",
    "version": 3
   },
   "file_extension": ".py",
   "mimetype": "text/x-python",
   "name": "python",
   "nbconvert_exporter": "python",
   "pygments_lexer": "ipython3",
   "version": "3.11.9"
  }
 },
 "nbformat": 4,
 "nbformat_minor": 5
}
